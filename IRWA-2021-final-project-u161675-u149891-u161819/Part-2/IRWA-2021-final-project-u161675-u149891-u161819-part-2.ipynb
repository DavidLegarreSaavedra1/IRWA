{
 "cells": [
  {
   "cell_type": "code",
   "execution_count": 1,
   "metadata": {},
   "outputs": [
    {
     "name": "stderr",
     "output_type": "stream",
     "text": [
      "[nltk_data] Downloading package stopwords to\n",
      "[nltk_data]     C:\\Users\\David\\AppData\\Roaming\\nltk_data...\n",
      "[nltk_data]   Package stopwords is already up-to-date!\n",
      "[nltk_data] Downloading package punkt to\n",
      "[nltk_data]     C:\\Users\\David\\AppData\\Roaming\\nltk_data...\n",
      "[nltk_data]   Package punkt is already up-to-date!\n"
     ]
    },
    {
     "data": {
      "text/plain": [
       "True"
      ]
     },
     "execution_count": 1,
     "metadata": {},
     "output_type": "execute_result"
    }
   ],
   "source": [
    "import nltk\n",
    "nltk.download('stopwords')\n",
    "nltk.download('punkt')"
   ]
  },
  {
   "cell_type": "code",
   "execution_count": 2,
   "metadata": {},
   "outputs": [
    {
     "name": "stderr",
     "output_type": "stream",
     "text": [
      "C:\\Users\\David\\anaconda3\\lib\\site-packages\\gensim\\similarities\\__init__.py:15: UserWarning: The gensim.similarities.levenshtein submodule is disabled, because the optional Levenshtein package <https://pypi.org/project/python-Levenshtein/> is unavailable. Install Levenhstein (e.g. `pip install python-Levenshtein`) to suppress this warning.\n",
      "  warnings.warn(msg)\n"
     ]
    }
   ],
   "source": [
    "from collections import defaultdict\n",
    "from array import array\n",
    "from nltk.stem import PorterStemmer\n",
    "from nltk.corpus import stopwords\n",
    "import re\n",
    "import math\n",
    "import numpy as np\n",
    "import collections\n",
    "from numpy import linalg as la\n",
    "import time\n",
    "import json\n",
    "import matplotlib.cm as cm\n",
    "import matplotlib.pyplot as plt\n",
    "import smart_open\n",
    "from gensim.models import Word2Vec\n",
    "from sklearn.manifold import TSNE"
   ]
  },
  {
   "cell_type": "markdown",
   "metadata": {},
   "source": [
    "# Part-1) Tweets pre-processings"
   ]
  },
  {
   "cell_type": "code",
   "execution_count": 3,
   "metadata": {},
   "outputs": [],
   "source": [
    "\"\"\"\n",
    "This dataset consists only of one line where all the 2399 tweets by the WHO twitter account. \n",
    "We use the json python library to load this text as a dictionary since the dataset is stored \n",
    "in JSON format. \n",
    "\"\"\"\n",
    "docs_path = 'dataset_tweets_WHO.txt'\n",
    "with open(docs_path) as fp:\n",
    "    lines = fp.readline()\n",
    "tweets = json.loads(lines)"
   ]
  },
  {
   "cell_type": "code",
   "execution_count": 4,
   "metadata": {},
   "outputs": [
    {
     "name": "stdout",
     "output_type": "stream",
     "text": [
      "First tweet structure:\n"
     ]
    },
    {
     "data": {
      "text/plain": [
       "{'created_at': 'Wed Oct 13 09:15:58 +0000 2021',\n",
       " 'id': 1448215930178310144,\n",
       " 'id_str': '1448215930178310144',\n",
       " 'full_text': \"It's International Day for Disaster Risk Reduction\\n\\n#OpenWHO has launched a multi-tiered core curriculum to help equip you with the competencies needed to work within public health emergency response.\\n\\nStart learning today &amp; be #Ready4Response:\\n👉 https://t.co/hBFFOF0xKL https://t.co/fgZY22RWuS\",\n",
       " 'truncated': False,\n",
       " 'display_text_range': [0, 274],\n",
       " 'entities': {'hashtags': [{'text': 'OpenWHO', 'indices': [52, 60]},\n",
       "   {'text': 'Ready4Response', 'indices': [232, 247]}],\n",
       "  'symbols': [],\n",
       "  'user_mentions': [],\n",
       "  'urls': [{'url': 'https://t.co/hBFFOF0xKL',\n",
       "    'expanded_url': 'https://bit.ly/3wCa0Dr',\n",
       "    'display_url': 'bit.ly/3wCa0Dr',\n",
       "    'indices': [251, 274]}],\n",
       "  'media': [{'id': 1448215398814560259,\n",
       "    'id_str': '1448215398814560259',\n",
       "    'indices': [275, 298],\n",
       "    'media_url': 'http://pbs.twimg.com/ext_tw_video_thumb/1448215398814560259/pu/img/0COksfUiCnS3MuNy.jpg',\n",
       "    'media_url_https': 'https://pbs.twimg.com/ext_tw_video_thumb/1448215398814560259/pu/img/0COksfUiCnS3MuNy.jpg',\n",
       "    'url': 'https://t.co/fgZY22RWuS',\n",
       "    'display_url': 'pic.twitter.com/fgZY22RWuS',\n",
       "    'expanded_url': 'https://twitter.com/WHO/status/1448215930178310144/video/1',\n",
       "    'type': 'photo',\n",
       "    'sizes': {'thumb': {'w': 150, 'h': 150, 'resize': 'crop'},\n",
       "     'large': {'w': 1920, 'h': 1080, 'resize': 'fit'},\n",
       "     'medium': {'w': 1200, 'h': 675, 'resize': 'fit'},\n",
       "     'small': {'w': 680, 'h': 383, 'resize': 'fit'}}}]},\n",
       " 'extended_entities': {'media': [{'id': 1448215398814560259,\n",
       "    'id_str': '1448215398814560259',\n",
       "    'indices': [275, 298],\n",
       "    'media_url': 'http://pbs.twimg.com/ext_tw_video_thumb/1448215398814560259/pu/img/0COksfUiCnS3MuNy.jpg',\n",
       "    'media_url_https': 'https://pbs.twimg.com/ext_tw_video_thumb/1448215398814560259/pu/img/0COksfUiCnS3MuNy.jpg',\n",
       "    'url': 'https://t.co/fgZY22RWuS',\n",
       "    'display_url': 'pic.twitter.com/fgZY22RWuS',\n",
       "    'expanded_url': 'https://twitter.com/WHO/status/1448215930178310144/video/1',\n",
       "    'type': 'video',\n",
       "    'sizes': {'thumb': {'w': 150, 'h': 150, 'resize': 'crop'},\n",
       "     'large': {'w': 1920, 'h': 1080, 'resize': 'fit'},\n",
       "     'medium': {'w': 1200, 'h': 675, 'resize': 'fit'},\n",
       "     'small': {'w': 680, 'h': 383, 'resize': 'fit'}},\n",
       "    'video_info': {'aspect_ratio': [16, 9],\n",
       "     'duration_millis': 97639,\n",
       "     'variants': [{'bitrate': 256000,\n",
       "       'content_type': 'video/mp4',\n",
       "       'url': 'https://video.twimg.com/ext_tw_video/1448215398814560259/pu/vid/480x270/izK3M-OCh-xYweXi.mp4?tag=12'},\n",
       "      {'bitrate': 832000,\n",
       "       'content_type': 'video/mp4',\n",
       "       'url': 'https://video.twimg.com/ext_tw_video/1448215398814560259/pu/vid/640x360/deOwD7OuDaJ7uiHk.mp4?tag=12'},\n",
       "      {'bitrate': 2176000,\n",
       "       'content_type': 'video/mp4',\n",
       "       'url': 'https://video.twimg.com/ext_tw_video/1448215398814560259/pu/vid/1280x720/aOPOcEVxPItrZ2RR.mp4?tag=12'},\n",
       "      {'content_type': 'application/x-mpegURL',\n",
       "       'url': 'https://video.twimg.com/ext_tw_video/1448215398814560259/pu/pl/4_kPEePepwPbCe8k.m3u8?tag=12&container=fmp4'}]},\n",
       "    'additional_media_info': {'monetizable': False}}]},\n",
       " 'source': '<a href=\"https://mobile.twitter.com\" rel=\"nofollow\">Twitter Web App</a>',\n",
       " 'in_reply_to_status_id': 1448208458604584960,\n",
       " 'in_reply_to_status_id_str': '1448208458604584960',\n",
       " 'in_reply_to_user_id': 14499829,\n",
       " 'in_reply_to_user_id_str': '14499829',\n",
       " 'in_reply_to_screen_name': 'WHO',\n",
       " 'user': {'id': 14499829,\n",
       "  'id_str': '14499829',\n",
       "  'name': 'World Health Organization (WHO)',\n",
       "  'screen_name': 'WHO',\n",
       "  'location': 'Geneva, Switzerland',\n",
       "  'description': 'We are the #UnitedNations’ health agency - #HealthForAll.\\n▶️ Always check our latest tweets on #COVID19 for updated advice/information.',\n",
       "  'url': 'https://t.co/wVulKuROWG',\n",
       "  'entities': {'url': {'urls': [{'url': 'https://t.co/wVulKuROWG',\n",
       "      'expanded_url': 'http://www.who.int',\n",
       "      'display_url': 'who.int',\n",
       "      'indices': [0, 23]}]},\n",
       "   'description': {'urls': []}},\n",
       "  'protected': False,\n",
       "  'followers_count': 9963586,\n",
       "  'friends_count': 1743,\n",
       "  'listed_count': 34215,\n",
       "  'created_at': 'Wed Apr 23 19:56:27 +0000 2008',\n",
       "  'favourites_count': 11879,\n",
       "  'utc_offset': None,\n",
       "  'time_zone': None,\n",
       "  'geo_enabled': True,\n",
       "  'verified': True,\n",
       "  'statuses_count': 64983,\n",
       "  'lang': None,\n",
       "  'contributors_enabled': False,\n",
       "  'is_translator': False,\n",
       "  'is_translation_enabled': False,\n",
       "  'profile_background_color': 'D0ECF8',\n",
       "  'profile_background_image_url': 'http://abs.twimg.com/images/themes/theme1/bg.png',\n",
       "  'profile_background_image_url_https': 'https://abs.twimg.com/images/themes/theme1/bg.png',\n",
       "  'profile_background_tile': True,\n",
       "  'profile_image_url': 'http://pbs.twimg.com/profile_images/875476478988886016/_l61qZdR_normal.jpg',\n",
       "  'profile_image_url_https': 'https://pbs.twimg.com/profile_images/875476478988886016/_l61qZdR_normal.jpg',\n",
       "  'profile_banner_url': 'https://pbs.twimg.com/profile_banners/14499829/1610970935',\n",
       "  'profile_link_color': '0396DB',\n",
       "  'profile_sidebar_border_color': '8C8C8C',\n",
       "  'profile_sidebar_fill_color': 'D9D9D9',\n",
       "  'profile_text_color': '000000',\n",
       "  'profile_use_background_image': True,\n",
       "  'has_extended_profile': True,\n",
       "  'default_profile': False,\n",
       "  'default_profile_image': False,\n",
       "  'following': False,\n",
       "  'follow_request_sent': False,\n",
       "  'notifications': False,\n",
       "  'translator_type': 'regular',\n",
       "  'withheld_in_countries': []},\n",
       " 'geo': None,\n",
       " 'coordinates': None,\n",
       " 'place': None,\n",
       " 'contributors': None,\n",
       " 'is_quote_status': False,\n",
       " 'retweet_count': 16,\n",
       " 'favorite_count': 52,\n",
       " 'favorited': False,\n",
       " 'retweeted': False,\n",
       " 'possibly_sensitive': False,\n",
       " 'lang': 'en'}"
      ]
     },
     "execution_count": 4,
     "metadata": {},
     "output_type": "execute_result"
    }
   ],
   "source": [
    "print(\"First tweet structure:\")\n",
    "tweets['0']"
   ]
  },
  {
   "cell_type": "code",
   "execution_count": 5,
   "metadata": {},
   "outputs": [
    {
     "data": {
      "text/plain": [
       "dict_keys(['created_at', 'id', 'id_str', 'full_text', 'truncated', 'display_text_range', 'entities', 'extended_entities', 'source', 'in_reply_to_status_id', 'in_reply_to_status_id_str', 'in_reply_to_user_id', 'in_reply_to_user_id_str', 'in_reply_to_screen_name', 'user', 'geo', 'coordinates', 'place', 'contributors', 'is_quote_status', 'retweet_count', 'favorite_count', 'favorited', 'retweeted', 'possibly_sensitive', 'lang'])"
      ]
     },
     "execution_count": 5,
     "metadata": {},
     "output_type": "execute_result"
    }
   ],
   "source": [
    "tweets['0'].keys()"
   ]
  },
  {
   "cell_type": "code",
   "execution_count": 6,
   "metadata": {
    "scrolled": false
   },
   "outputs": [
    {
     "name": "stdout",
     "output_type": "stream",
     "text": [
      "First three full text tweets:\n",
      "\n",
      "Tweet number 1 :\n",
      "\n",
      "It's International Day for Disaster Risk Reduction\n",
      "\n",
      "#OpenWHO has launched a multi-tiered core curriculum to help equip you with the competencies needed to work within public health emergency response.\n",
      "\n",
      "Start learning today &amp; be #Ready4Response:\n",
      "👉 https://t.co/hBFFOF0xKL https://t.co/fgZY22RWuS\n",
      "\n",
      "\n",
      "Tweet number 2 :\n",
      "\n",
      "#COVID19 has shown how health emergencies and disasters affect entire communities – especially those with weak health systems, and vulnerable populations like migrants, indigenous peoples, and those living in fragile humanitarian conditions. https://t.co/jpUQpnu0V1\n",
      "\n",
      "\n",
      "Tweet number 3 :\n",
      "\n",
      "It's International Day for Disaster Risk Reduction\n",
      " \n",
      "To better respond to emergencies countries must:\n",
      "✅ invest in health care systems\n",
      "✅ achieve gender equity\n",
      "✅ protect marginalised groups\n",
      "✅ ensure ready &amp; equitable access to supplies\n",
      " \n",
      "A strong &amp; resilient health system is 🔑 https://t.co/5NALyjIymp\n",
      "\n",
      "\n"
     ]
    }
   ],
   "source": [
    "print(\"First three full text tweets:\\n\")\n",
    "for i in range(3):\n",
    "    print(\"Tweet number\",i+1,\":\\n\")\n",
    "    print(tweets[str(i)][\"full_text\"])\n",
    "    print(\"\\n\")\n",
    "    "
   ]
  },
  {
   "cell_type": "code",
   "execution_count": 7,
   "metadata": {},
   "outputs": [],
   "source": [
    "def process_tweet(line):\n",
    "    \"\"\"\n",
    "    Pre-process the tweet text removing stop words, stemming,\n",
    "    transforming in lowercase and return the tokens of the text.\n",
    "    \n",
    "    Argument:\n",
    "    line -- string (text) to be pre-processed\n",
    "    \n",
    "    Returns:\n",
    "    line - a list of tokens corresponding to the input text after the preprocessing\n",
    "    \"\"\"\n",
    "\n",
    "    stemmer = PorterStemmer()\n",
    "    stop_words = set(stopwords.words(\"english\"))\n",
    "    ## START CODE\n",
    "    line = line.lower() ## Transform in lowercase\n",
    "    tokenizer = nltk.RegexpTokenizer(r\"\\w+\")\n",
    "    line = tokenizer.tokenize(line)\n",
    "    line = [word for word in line if word not in stop_words]  ##eliminate the stopwords (HINT: use List Comprehension)\n",
    "    line = [stemmer.stem(word) for word in line] ## perform stemming (HINT: use List Comprehension)\n",
    "    i = 0\n",
    "    for word in line:\n",
    "        if word[0:4] == 'http':\n",
    "            line = line[:i]\n",
    "        i+=1\n",
    "    ## END CODE\n",
    "    return line"
   ]
  },
  {
   "cell_type": "code",
   "execution_count": 8,
   "metadata": {},
   "outputs": [],
   "source": [
    "\"\"\"\n",
    "Here for every tweet we extract the 'full_text' variable since we will only \n",
    "search inside the text of each tweet. Thus, we pre-process each tweet and \n",
    "store it in a new dictionary called proc_tweets for later use\n",
    "\"\"\"\n",
    "proc_tweets = {}\n",
    "for tweet_id, tweet in zip(tweets.keys(),tweets.values()):\n",
    "    proc_tweets[int(tweet_id)] = process_tweet(tweet['full_text'])"
   ]
  },
  {
   "cell_type": "code",
   "execution_count": 9,
   "metadata": {},
   "outputs": [
    {
     "name": "stdout",
     "output_type": "stream",
     "text": [
      "First five processed tweets\n",
      "\n",
      "['intern', 'day', 'disast', 'risk', 'reduct', 'openwho', 'launch', 'multi', 'tier', 'core', 'curriculum', 'help', 'equip', 'compet', 'need', 'work', 'within', 'public', 'health', 'emerg', 'respons', 'start', 'learn', 'today', 'amp', 'ready4respons']\n",
      "\n",
      "\n",
      "['covid19', 'shown', 'health', 'emerg', 'disast', 'affect', 'entir', 'commun', 'especi', 'weak', 'health', 'system', 'vulner', 'popul', 'like', 'migrant', 'indigen', 'peopl', 'live', 'fragil', 'humanitarian', 'condit']\n",
      "\n",
      "\n",
      "['intern', 'day', 'disast', 'risk', 'reduct', 'better', 'respond', 'emerg', 'countri', 'must', 'invest', 'health', 'care', 'system', 'achiev', 'gender', 'equiti', 'protect', 'marginalis', 'group', 'ensur', 'readi', 'amp', 'equit', 'access', 'suppli', 'strong', 'amp', 'resili', 'health', 'system']\n",
      "\n",
      "\n"
     ]
    }
   ],
   "source": [
    "print(\"First five processed tweets\\n\")\n",
    "for i in range(3):\n",
    "    print(proc_tweets[i])\n",
    "    print(\"\\n\")\n",
    "    "
   ]
  },
  {
   "cell_type": "markdown",
   "metadata": {},
   "source": [
    "Lab 2:\n",
    "\n",
    "INDEXING:\n",
    "1. Create inverted index\n",
    "2. Make a proposal of 5 queries that will be used to evaluate our search engine\n",
    "3. Apply a TF-IDF ranking to your results\n",
    "\n",
    "EVALUATION:\n",
    "1. Set the ground truth for each document and queryy (binary way)\n",
    "2. Evaluate the algorithm with:\n",
    "    2.1 Precision @K\n",
    "    2.2 Average Precision @K \n",
    "    2.3 Mean Average Precision\n",
    "    2.4 Mean Reciprocal Rank\n",
    "    2.5 Normalizewd Discounted Cummulative Gain\n",
    "3. Choose one vector rpresentation (TF-IDF or word2vec)"
   ]
  },
  {
   "cell_type": "code",
   "execution_count": 10,
   "metadata": {},
   "outputs": [],
   "source": [
    "def get_tweet_info(tweet):\n",
    "    Tweet = tweet['full_text']\n",
    "    Username = tweet['user']['name']\n",
    "    Date = tweet['created_at']\n",
    "    #Hashtags = tweet['entities']['hashtags']['text']\n",
    "\n",
    "    Hashtags = []\n",
    "    hashtags_list = tweet['entities']['hashtags']\n",
    "    for hashtag in hashtags_list:\n",
    "        Hashtags.append(hashtag['text'])\n",
    "\n",
    "    Likes = tweet['favorite_count']\n",
    "    Retweets = tweet['retweet_count']\n",
    "    Url = f\"https://twitter.com/{tweet['user']['screen_name']}/status/{tweet['id_str']}\"\n",
    "    info = [Tweet, Username, Date, Hashtags, Likes, Retweets, Url]\n",
    "    return info"
   ]
  },
  {
   "cell_type": "code",
   "execution_count": 11,
   "metadata": {},
   "outputs": [],
   "source": [
    "def create_index(tweets):\n",
    "    \"\"\"\n",
    "    Generates the index from our database to perform queries from\n",
    "    \n",
    "    Argument:\n",
    "    tweets -- collection of tweets\n",
    "    \n",
    "    Returns:\n",
    "    index - the inverted index (implemented through a Python dictionary) containing terms as keys and the corresponding\n",
    "    list of documents where these keys appears in (and the positions) as values.\n",
    "    \"\"\"\n",
    "    index = {}\n",
    "    id_index = {}\n",
    "    tf = {}\n",
    "    df = defaultdict(int)\n",
    "    idf = defaultdict(float)\n",
    "    numDocuments = len(tweets)\n",
    "    for i in range(numDocuments):\n",
    "        tweet = tweets[str(i)]\n",
    "        terms = process_tweet(tweet['full_text']) #get tweet text\n",
    "        info = get_tweet_info(tweet) # get \"document\" info\n",
    "        id_tweet = tweet['id']\n",
    "        id_index[id_tweet]=info\n",
    "        \n",
    "        \n",
    "        for term in terms: # terms contains page_title + page_text. Loop over all terms\n",
    "            try:\n",
    "                # if the term is already in the index for the current page (current_page_index)\n",
    "                # append the position to the corresponding list\n",
    "                index[term].append(id_tweet)  \n",
    "                \n",
    "            except:\n",
    "                # Add the new term as dict key and initialize the array of positions and add the position\n",
    "                index[term]= [id_tweet]#'I' indicates unsigned int (int in Python)\n",
    "            \n",
    "        norm=0\n",
    "        for term,ids in index.items():\n",
    "            norm += len(ids)**2\n",
    "        norm = math.sqrt(norm)\n",
    "        \n",
    "        for term,ids in index.items():\n",
    "            if term in tf:\n",
    "                tf[term][id_tweet] = np.round(len(ids)/norm,4)\n",
    "            else:\n",
    "                tf[term] = {id_tweet:np.round(len(ids)/norm,4)}\n",
    "            df[term] += 1\n",
    "        \n",
    "        for term in index:\n",
    "            idf[term] = np.round(np.log(float(numDocuments/df[term])),4)\n",
    "        \n",
    "    return index, tf,df,idf,id_index\n"
   ]
  },
  {
   "cell_type": "code",
   "execution_count": 12,
   "metadata": {},
   "outputs": [
    {
     "name": "stdout",
     "output_type": "stream",
     "text": [
      "Total time to create the index: 189.15 seconds\n"
     ]
    }
   ],
   "source": [
    "start_time = time.time()\n",
    "index, tf,df,idf,id_index = create_index(tweets)\n",
    "print(\"Total time to create the index: {} seconds\".format(np.round(time.time() - start_time, 2)))"
   ]
  },
  {
   "cell_type": "code",
   "execution_count": 13,
   "metadata": {},
   "outputs": [],
   "source": [
    "def search(query, index):\n",
    "    query = process_tweet(query)\n",
    "    first = True\n",
    "    docs = {}\n",
    "    for term in query:\n",
    "        try:\n",
    "            list_docs = index[term]\n",
    "            if first:\n",
    "                docs = set(list_docs)\n",
    "                first = False\n",
    "            else:\n",
    "                docs &= set(list_docs)\n",
    "            \n",
    "        except:\n",
    "            break\n",
    "    docs=list(docs)\n",
    "    return docs           "
   ]
  },
  {
   "cell_type": "code",
   "execution_count": 14,
   "metadata": {},
   "outputs": [],
   "source": [
    "# def search(query, index):\n",
    "#     query = process_tweet(query)\n",
    "    "
   ]
  },
  {
   "cell_type": "code",
   "execution_count": 15,
   "metadata": {},
   "outputs": [
    {
     "name": "stdout",
     "output_type": "stream",
     "text": [
      "Insert your query:\n",
      "\n",
      "covid vaccine\n",
      "Top 10 results:\n",
      "\n",
      "['RT @WHOAFRO: 📺 LIVE: @WHOAFRO media briefing on the #COVID19 pandemic &amp; the global 10% COVID-19 vaccination milestones reached by countries…', 'World Health Organization (WHO)', 'Thu Sep 30 10:07:43 +0000 2021', ['COVID19'], 0, 27, 'https://twitter.com/WHO/status/1443517908072730624']\n",
      "\n",
      "[\"RT @WHOAFRO: Join tomorrow's media briefing on the #COVID19 pandemic &amp; the global 10% COVID-19 vaccination milestones reached by countries…\", 'World Health Organization (WHO)', 'Wed Sep 29 19:01:27 +0000 2021', ['COVID19'], 0, 21, 'https://twitter.com/WHO/status/1443289841698025473']\n",
      "\n",
      "['RT @WHOPhilippines: Vaccines can’t stop #COVID19 alone, but by doing it all we can help protect ourselves and our loved ones against COVID-…', 'World Health Organization (WHO)', 'Mon Oct 11 04:39:10 +0000 2021', ['COVID19'], 0, 71, 'https://twitter.com/WHO/status/1447421491428143106']\n",
      "\n",
      "['Q&amp;A #AskWHO on COVID-19 vaccines effectiveness https://t.co/FEdfOREhjn', 'World Health Organization (WHO)', 'Wed Jun 30 16:12:43 +0000 2021', ['AskWHO'], 219, 85, 'https://twitter.com/WHO/status/1410270080873598979']\n",
      "\n",
      "['Richer countries are projected to both vaccinate &amp; recover quicker from #COVID19. Poorer countries haven’t even been able to vaccinate their health workers &amp; most at-risk populations, and may not achieve pre-COVID-19 levels of growth until 2024. \\n\\nhttps://t.co/48frkTNNmC https://t.co/SuItOFgaxZ', 'World Health Organization (WHO)', 'Thu Jul 22 15:20:11 +0000 2021', ['COVID19'], 130, 65, 'https://twitter.com/WHO/status/1418229392514424836']\n",
      "\n",
      "['The heads of the four organizations discussed the urgency of increasing supplies of #COVID19 vaccines, therapeutics and diagnostics for developing countries; and practical &amp; effective ways to track, coordinate and advance delivery of COVID-19 vaccines to developing countries. https://t.co/fpISmcwQc2', 'World Health Organization (WHO)', 'Wed Jun 30 20:04:47 +0000 2021', ['COVID19'], 67, 17, 'https://twitter.com/WHO/status/1410328481335029765']\n",
      "\n",
      "[\"Getting vaccinated against #COVID19 helps protect you from getting sick. As soon as it's your turn, take your vaccine!\\n\\nAll approved COVID-19 vaccines have been thoroughly tested, and all provide a high degree of protection against getting seriously ill &amp; dying from the disease. https://t.co/bYpU3WvpuM\", 'World Health Organization (WHO)', 'Sun Aug 15 06:01:21 +0000 2021', ['COVID19'], 299, 120, 'https://twitter.com/WHO/status/1426786068192366592']\n",
      "\n",
      "['💉💉💉💉\\n💉💉💉💉\\n💉💉💉💉\\n💉💉💉💉\\n💉💉💉💉                 💉💉💉💉\\n💉💉💉💉                 💉💉💉💉\\n\\nCOVID-19 vaccines     COVID-19 vaccines\\nin 10 countries             in the rest of the 🌍\\n\\n#VaccinEquity is 🗝️ to ending the pandemic, together!\\n\\n#WorldEmojiDay', 'World Health Organization (WHO)', 'Sat Jul 17 16:24:23 +0000 2021', ['VaccinEquity', 'WorldEmojiDay'], 3486, 1517, 'https://twitter.com/WHO/status/1416433609091653633']\n",
      "\n",
      "['Are you involved in the costing, budgeting or financing processes of #COVID19 vaccine delivery in your country?\\n\\nJoin our 🆕 #OpenWHO course to learn how to use the COVID-19 Vaccine Introduction and deployment Costing Tool.\\n\\n👉 https://t.co/vyXfuxXSDB https://t.co/XPr1caIFg6', 'World Health Organization (WHO)', 'Mon Aug 02 10:46:05 +0000 2021', ['COVID19', 'OpenWHO'], 146, 31, 'https://twitter.com/WHO/status/1422146679051067400']\n",
      "\n",
      "['▶️ If you have #COVID19, is it safe to breastfeed your baby❓\\n\\n▶️ Is it safe to get vaccinated against COVID-19 if you are breastfeeding❓\\n\\n▶️ How can you keep your baby safe while breastfeeding 🤱 if you have COVID-19❓\\n\\nDr Laurence Grummer-Strawn explains in #ScienceIn5. https://t.co/QMAq9TMY7A', 'World Health Organization (WHO)', 'Mon Aug 30 10:43:22 +0000 2021', ['COVID19', 'ScienceIn5'], 219, 105, 'https://twitter.com/WHO/status/1432292855037394953']\n",
      "\n"
     ]
    }
   ],
   "source": [
    "print(\"Insert your query:\\n\")\n",
    "query = input()\n",
    "docs = search(query,index)\n",
    "\n",
    "print(\"Top 10 results:\\n\")\n",
    "for d_id in docs[:10]:\n",
    "    print(f\"{id_index[d_id]}\\n\")"
   ]
  },
  {
   "cell_type": "code",
   "execution_count": 16,
   "metadata": {},
   "outputs": [],
   "source": [
    "def rank_documents(terms, docs, index, idf, tf, title_index):\n",
    "    \"\"\"\n",
    "    Perform the ranking of the results of a search based on the tf-idf weights\n",
    "    \n",
    "    Argument:\n",
    "    terms -- list of query terms\n",
    "    docs -- list of documents, to rank, matching the query\n",
    "    index -- inverted index data structure\n",
    "    idf -- inverted document frequencies\n",
    "    tf -- term frequencies\n",
    "    title_index -- mapping between page id and page title\n",
    "    \n",
    "    Returns:\n",
    "    Print the list of ranked documents\n",
    "    \"\"\"\n",
    "\n",
    "    # I'm interested only on the element of the docVector corresponding to the query terms \n",
    "    # The remaining elements would became 0 when multiplied to the query_vector\n",
    "    doc_vectors = defaultdict(lambda: [0] * len(terms)) # I call doc_vectors[k] for a nonexistent key k, the key-value pair (k,[0]*len(terms)) will be automatically added to the dictionary\n",
    "    query_vector = [0] * len(terms)\n",
    "\n",
    "    # compute the norm for the query tf\n",
    "    query_terms_count = collections.Counter(terms)  # get the frequency of each term in the query. \n",
    "    # Example: collections.Counter([\"hello\",\"hello\",\"world\"]) --> Counter({'hello': 2, 'world': 1})\n",
    "    #HINT: use when computing tf for query_vector\n",
    "\n",
    "    query_norm = la.norm(list(query_terms_count.values()))\n",
    "\n",
    "    for termIndex, term in enumerate(terms):  #termIndex is the index of the term in the query\n",
    "        if term not in index:\n",
    "            continue\n",
    "\n",
    "        ## Compute tf*idf(normalize TF as done with documents)\n",
    "        query_vector[termIndex]=query_terms_count[term]/query_norm * idf[term] \n",
    "\n",
    "        # Generate doc_vectors for matching docs\n",
    "        for doc in index[term]:\n",
    "            # Example of [doc_index, (doc, postings)]\n",
    "            # 0 (26, array('I', [1, 4, 12, 15, 22, 28, 32, 43, 51, 68, 333, 337]))\n",
    "            # 1 (33, array('I', [26, 33, 57, 71, 87, 104, 109]))\n",
    "            # term is in doc 26 in positions 1,4, .....\n",
    "            # term is in doc 33 in positions 26,33, .....\n",
    "\n",
    "            #tf[term][0] will contain the tf of the term \"term\" in the doc 26            \n",
    "            if doc in docs:\n",
    "                doc_vectors[doc][termIndex] = tf[term][doc] * idf[term]  # TODO: check if multiply for idf\n",
    "\n",
    "    # Calculate the score of each doc \n",
    "    # compute the cosine similarity between queyVector and each docVector:\n",
    "    # HINT: you can use the dot product because in case of normalized vectors it corresponds to the cosine similarity\n",
    "    # see np.dot\n",
    "    \n",
    "    doc_scores=[[np.dot(curDocVec, query_vector), doc] for doc, curDocVec in doc_vectors.items() ]\n",
    "    doc_scores.sort(reverse=True)\n",
    "    result_docs = [x[1] for x in doc_scores]\n",
    "    #print document titles instead if document id's\n",
    "    #result_docs=[ title_index[x] for x in result_docs ]\n",
    "    if len(result_docs) == 0:\n",
    "        print(\"No results found, try again\")\n",
    "        query = input()\n",
    "        if not query:\n",
    "            return None\n",
    "        docs = search_tf_idf(query, index)\n",
    "    #print ('\\n'.join(result_docs), '\\n')\n",
    "    return result_docs, doc_scores"
   ]
  },
  {
   "cell_type": "code",
   "execution_count": 17,
   "metadata": {},
   "outputs": [],
   "source": [
    "def search_tf_idf(query, index):\n",
    "    \"\"\"\n",
    "    output is the list of documents that contain any of the query terms. \n",
    "    So, we will get the list of documents for each query term, and take the union of them.\n",
    "    \"\"\"\n",
    "    query = process_tweet(query)\n",
    "    docs = set()\n",
    "    first = True\n",
    "    if not query:\n",
    "        return None\n",
    "    for term in query:\n",
    "        try:\n",
    "            list_docs = index[term]\n",
    "            if first:\n",
    "                docs = set(list_docs)\n",
    "                first = False\n",
    "            else:\n",
    "                docs &= set(list_docs)\n",
    "        except:\n",
    "            break\n",
    "            \n",
    "    docs = list(docs)\n",
    "    ranked_docs, doc_scores = rank_documents(query, docs, index, idf, tf, id_index)\n",
    "    \n",
    "    return ranked_docs, doc_scores"
   ]
  },
  {
   "cell_type": "code",
   "execution_count": 18,
   "metadata": {},
   "outputs": [
    {
     "name": "stdout",
     "output_type": "stream",
     "text": [
      "Insert your query (i.e.: Computer Science):\n",
      "\n",
      "covid vaccine\n",
      "\n",
      "======================\n",
      "Top 10 results out of 13 for the searched query:\n",
      "\n",
      "[\"RT @WHOAFRO: Join tomorrow's media briefing on the #COVID19 pandemic &amp; the global 10% COVID-19 vaccination milestones reached by countries…\", 'World Health Organization (WHO)', 'Wed Sep 29 19:01:27 +0000 2021', ['COVID19'], 0, 21, 'https://twitter.com/WHO/status/1443289841698025473']\n",
      "\n",
      "['RT @WHOAFRO: 📺 LIVE: @WHOAFRO media briefing on the #COVID19 pandemic &amp; the global 10% COVID-19 vaccination milestones reached by countries…', 'World Health Organization (WHO)', 'Thu Sep 30 10:07:43 +0000 2021', ['COVID19'], 0, 27, 'https://twitter.com/WHO/status/1443517908072730624']\n",
      "\n",
      "['Q&amp;A #AskWHO on COVID-19 vaccines effectiveness https://t.co/FEdfOREhjn', 'World Health Organization (WHO)', 'Wed Jun 30 16:12:43 +0000 2021', ['AskWHO'], 219, 85, 'https://twitter.com/WHO/status/1410270080873598979']\n",
      "\n",
      "['The heads of the four organizations discussed the urgency of increasing supplies of #COVID19 vaccines, therapeutics and diagnostics for developing countries; and practical &amp; effective ways to track, coordinate and advance delivery of COVID-19 vaccines to developing countries. https://t.co/fpISmcwQc2', 'World Health Organization (WHO)', 'Wed Jun 30 20:04:47 +0000 2021', ['COVID19'], 67, 17, 'https://twitter.com/WHO/status/1410328481335029765']\n",
      "\n",
      "['COVID-19 vaccine inequity is undermining 🌍 economic recovery. 🆕WHO, @UNDP and @BlavatnikSchool Dashboard on #VaccinEquity finds that low-income countries would add $38B to their GDP forecast if they had the same vaccination rate as high-income countries\\nhttps://t.co/BsYF2eYL1G', 'World Health Organization (WHO)', 'Thu Jul 22 13:43:53 +0000 2021', ['VaccinEquity'], 383, 168, 'https://twitter.com/WHO/status/1418205159188955137']\n",
      "\n",
      "['Are you involved in the costing, budgeting or financing processes of #COVID19 vaccine delivery in your country?\\n\\nJoin our 🆕 #OpenWHO course to learn how to use the COVID-19 Vaccine Introduction and deployment Costing Tool.\\n\\n👉 https://t.co/vyXfuxXSDB https://t.co/XPr1caIFg6', 'World Health Organization (WHO)', 'Mon Aug 02 10:46:05 +0000 2021', ['COVID19', 'OpenWHO'], 146, 31, 'https://twitter.com/WHO/status/1422146679051067400']\n",
      "\n",
      "['Richer countries are projected to both vaccinate &amp; recover quicker from #COVID19. Poorer countries haven’t even been able to vaccinate their health workers &amp; most at-risk populations, and may not achieve pre-COVID-19 levels of growth until 2024. \\n\\nhttps://t.co/48frkTNNmC https://t.co/SuItOFgaxZ', 'World Health Organization (WHO)', 'Thu Jul 22 15:20:11 +0000 2021', ['COVID19'], 130, 65, 'https://twitter.com/WHO/status/1418229392514424836']\n",
      "\n",
      "['💉💉💉💉\\n💉💉💉💉\\n💉💉💉💉\\n💉💉💉💉\\n💉💉💉💉                 💉💉💉💉\\n💉💉💉💉                 💉💉💉💉\\n\\nCOVID-19 vaccines     COVID-19 vaccines\\nin 10 countries             in the rest of the 🌍\\n\\n#VaccinEquity is 🗝️ to ending the pandemic, together!\\n\\n#WorldEmojiDay', 'World Health Organization (WHO)', 'Sat Jul 17 16:24:23 +0000 2021', ['VaccinEquity', 'WorldEmojiDay'], 3486, 1517, 'https://twitter.com/WHO/status/1416433609091653633']\n",
      "\n",
      "[\"RT @WHONepal: Nepal has administered more than 🔟million doses of COVID-19 💉💉💉, fully vaccinating 15% of its population. This feat wouldn't…\", 'World Health Organization (WHO)', 'Thu Sep 02 16:38:12 +0000 2021', [], 0, 101, 'https://twitter.com/WHO/status/1433469315710341130']\n",
      "\n",
      "['#COVID19 variants &amp; vaccines:\\n\\n✅ COVID-19 vaccines provide strong protection against serious illness &amp; death\\n✅ Get all necessary doses to develop maximum protection\\n✅ Continue practicing all the protective behaviours even after vaccination to stop COVID-19 variants', 'World Health Organization (WHO)', 'Mon Sep 06 08:09:59 +0000 2021', ['COVID19'], 352, 169, 'https://twitter.com/WHO/status/1434790971632336906']\n",
      "\n"
     ]
    }
   ],
   "source": [
    "print(\"Insert your query (i.e.: Computer Science):\\n\")\n",
    "query = input()\n",
    "ranked_docs, doc_scores = search_tf_idf(query, index)\n",
    "top = 10\n",
    "if ranked_docs:\n",
    "    print(\"\\n======================\\nTop {} results out of {} for the searched query:\\n\".format(top, len(ranked_docs)))\n",
    "    for d_id in ranked_docs[:top]:\n",
    "        print(f\"{id_index[d_id]}\\n\")"
   ]
  },
  {
   "cell_type": "code",
   "execution_count": 19,
   "metadata": {},
   "outputs": [],
   "source": [
    "#Ground truth"
   ]
  },
  {
   "cell_type": "code",
   "execution_count": 20,
   "metadata": {},
   "outputs": [
    {
     "name": "stdout",
     "output_type": "stream",
     "text": [
      "[[3.645828421662214e-07, 1443289841698025473], [3.5680891021385654e-07, 1443517908072730624], [2.9001348234263173e-07, 1410270080873598979], [2.8824005853541587e-07, 1410328481335029765], [2.836070949050816e-07, 1418205159188955137], [2.818994320285161e-07, 1422146679051067400], [2.8159466900582475e-07, 1418229392514424836], [2.8051915959163996e-07, 1416433609091653633], [2.7745385169519624e-07, 1433469315710341130], [2.773414217169876e-07, 1434790971632336906], [2.7199145181053023e-07, 1426786068192366592], [2.5795962484466435e-07, 1432292855037394953], [1.3225725235313183e-07, 1447421491428143106]]\n"
     ]
    }
   ],
   "source": [
    "print(doc_scores)"
   ]
  },
  {
   "cell_type": "code",
   "execution_count": 21,
   "metadata": {},
   "outputs": [],
   "source": [
    "def precision_at_k(y_true, y_score, k=10):\n",
    "    '''    \n",
    "    Parameters\n",
    "    ----------\n",
    "    y_true: Ground truth (true relevance labels).\n",
    "    y_score: Predicted scores.\n",
    "    k : number of doc to consider.\n",
    "    \n",
    "    Returns\n",
    "    -------\n",
    "    precision @k : float\n",
    "    \n",
    "    '''    \n",
    "    order = np.argsort(y_score)[::-1]\n",
    "    y_true = np.take(y_true, order)[:k]\n",
    "    relevant = np.sum(y_true)\n",
    "    \n",
    "    return relevant/k"
   ]
  },
  {
   "cell_type": "code",
   "execution_count": 22,
   "metadata": {},
   "outputs": [],
   "source": [
    "def avg_precision_at_k(y_true, y_score, k=10):\n",
    "    \n",
    "    '''\n",
    "    Parameters\n",
    "    ----------\n",
    "    y_true: Ground truth (true relevance labels).\n",
    "    y_score: Predicted scores.\n",
    "    k : number of doc to consider.\n",
    "    \n",
    "    Returns\n",
    "    -------\n",
    "    average precision @k : float\n",
    "    '''\n",
    "    \n",
    "    gtp = np.sum(y_true == 1)\n",
    "    order = np.argsort(y_score)[::-1]\n",
    "    y_true = np.take(y_true, order[:k])           \n",
    "\n",
    "    ## if all docs are not relevant\n",
    "    if gtp==0:\n",
    "        return 0\n",
    "    n_relevant_at_i = 0\n",
    "    prec_at_i = 0\n",
    "    for i in range(len(y_true)):\n",
    "        if y_true[i] == 1:\n",
    "            n_relevant_at_i += 1\n",
    "            prec_at_i += n_relevant_at_i/(i + 1)\n",
    "            \n",
    "    return prec_at_i/gtp"
   ]
  },
  {
   "cell_type": "code",
   "execution_count": 23,
   "metadata": {},
   "outputs": [],
   "source": [
    "def map_at_k(search_res, k=10):\n",
    "    '''\n",
    "    Parameters\n",
    "    ----------\n",
    "    search_res: search results dataset containing:\n",
    "        q_id: query id.\n",
    "        doc_id: document id.\n",
    "        predicted_relevance: relevance predicted through LightGBM.\n",
    "        y_true: actual score of the document for the query (ground truth).\n",
    "    \n",
    "    Returns\n",
    "    -------\n",
    "    mean average precision @k : float\n",
    "    '''\n",
    "    avp = []\n",
    "    for q in search_res['q_id'].unique(): #loop over all query id\n",
    "        curr_data = search_res[search_res['q_id'] == q]  # select data for current query\n",
    "        avp.append(avg_precision_at_k(np.array(curr_data['bin_y_true']), np.array(curr_data['predicted_relevance']), k)) #append average precision for current query\n",
    "    return np.sum(avp)/len(avp)#, avp # return mean average precision"
   ]
  },
  {
   "cell_type": "code",
   "execution_count": 24,
   "metadata": {},
   "outputs": [],
   "source": [
    "def rr_at_k(y_true, y_score, k=10):\n",
    "    '''\n",
    "    Parameters\n",
    "    ----------\n",
    "    y_true: Ground truth (true relevance labels).\n",
    "    y_score: Predicted scores.\n",
    "    k : number of doc to consider.\n",
    "    \n",
    "    Returns\n",
    "    -------\n",
    "    Reciprocal Rank for qurrent query\n",
    "    '''\n",
    "\n",
    "    order = np.argsort(y_score)[::-1] # get the list of indexes of the predicted score sorted in descending order.\n",
    "    y_true = np.take(y_true, order[:k]) # sort the actual relevance label of the documents based on predicted score(hint: np.take) and take first k.\n",
    "\n",
    "    if np.sum(y_true) == 0: # if there are not relevant doument return 0\n",
    "        return 0\n",
    "    return 1/(np.argmax(y_true == 1) + 1) # hint: to get the position of the first relevant document use \"np.argmax\""
   ]
  },
  {
   "cell_type": "code",
   "execution_count": 25,
   "metadata": {},
   "outputs": [],
   "source": [
    "def dcg_at_k(y_true, y_score,  k=10):\n",
    "    order = np.argsort(y_score)[::-1] # get the list of indexes of the predicted score sorted in descending order.\n",
    "    y_true = np.take(y_true, order[:k]) # sort the actual relevance label of the documents based on predicted score(hint: np.take) and take first k.\n",
    "    gain = (2**y_true) - 1 # Compute gain (use formula 7 above)\n",
    "    discounts = np.log2(np.arange(len(y_true)) + 2) # Compute denominator\n",
    "    return np.sum(gain / discounts) #return dcg@k\n",
    "\n",
    "\n",
    "def ndcg_at_k(y_true, y_score, k=10):    \n",
    "    dcg_max = dcg_at_k(y_true, y_true, k) # Ideal dcg\n",
    "    if not dcg_max:\n",
    "        return 0\n",
    "    return np.round(dcg_at_k(y_true, y_score, k)/dcg_max,4)  # return ndcg@k"
   ]
  },
  {
   "cell_type": "markdown",
   "metadata": {},
   "source": [
    "# 3.3"
   ]
  },
  {
   "cell_type": "code",
   "execution_count": 44,
   "metadata": {},
   "outputs": [],
   "source": [
    "words = [[word for word in index.keys()]]\n",
    "\n",
    "word2vec = Word2Vec(words, min_count=1)"
   ]
  },
  {
   "cell_type": "code",
   "execution_count": 45,
   "metadata": {},
   "outputs": [
    {
     "name": "stdout",
     "output_type": "stream",
     "text": [
      "{'interfer': 0, 'roadmap': 1, 'accord': 2, 'analysi': 3, 'trend': 4, 'preval': 5, 'speedi': 6, 'optim': 7, 'defeatmening': 8, 'bacteri': 9, 'tigray': 10, 'epidem': 11, '50': 12, 'elev': 13, 'kidney': 14, 'stiff': 15, 'neck': 16, 'sensit': 17, '1990': 18, '28': 19, '650': 20, 'doubl': 21, 'messeng': 22, 'viber': 23, 'discov': 24, 'latest': 25, 'lite': 26, 'freebas': 27, 'hot': 28, 'humid': 29, 'pathogen': 30, 'mosquito': 31, 'episod': 32, 'eye': 33, 'podcast': 34, '79': 35, 'hypertens': 36, 'light': 37, 'confus': 38, 'headach': 39, 'directli': 40, 'account': 41, 'choos': 42, 'interact': 43, 'fingertip': 44, 'ℹ': 45, 'alert': 46, 'via': 47, 'type': 48, 'hi': 49, 'belt': 50, 'stretch': 51, 'seneg': 52, 'west': 53, 'east': 54, 'exploit': 55, 'cardiovascular': 56, 'notif': 57, 'rash': 58, 'user': 59, 'seizur': 60, 'infant': 61, 'bulg': 62, 'fontanel': 63, 'droopi': 64, 'unrespons': 65, 'meningococcu': 66, 'pneumococcu': 67, 'bacteria': 68, 'haemophilu': 69, 'influenza': 70, 'seri': 71, 'moetitshidi': 72, 'subscrib': 73, 'chatbot': 74, 'whatsapp': 75, 'pinterest': 76, 'tiktok_u': 77, 'qualif': 78, 'price': 79, 'negoti': 80, 'lower': 81, 'criteria': 82, 'biosimilar': 83, 'version': 84, 'seroneg': 85, 'statu': 86, 'antibodi': 87, 'welcom': 88, 'casirivimab': 89, 'imdevimab': 90, 'un_news_centr': 91, 'situat': 92, 'deterior': 93, 'expand': 94, 'platform': 95, 'ju': 96, 'topic': 97, 'starvat': 98, 'famin': 99, 'widespread': 100, 'urgent': 101, 'direct': 102, 'foundat': 103, 'coher': 104, 'align': 105, 'rebuild': 106, 'secur': 107, 'complementari': 108, 'goal': 109, 'underscor': 110, 'translationday': 111, 'languag': 112, 'reveal': 113, 'realiz': 114, 'snapchat': 115, 'bolivia': 116, 'success': 117, 'blood': 118, 'pressur': 119, 'salt': 120, 'avoid': 121, 'satur': 122, 'fat': 123, 'advic': 124, 'adher': 125, 'lifestyl': 126, 'prescrib': 127, 'stress': 128, 'bolster': 129, '2030': 130, 'instagram': 131, 'columbia': 132, 'choquehuanca': 133, 'potenti': 134, 'david': 135, 'columbiamsph': 136, 'wtopublicforum': 137, 'reiter': 138, 'unnecessari': 139, 'trade': 140, 'constraint': 141, 'tomorrow': 142, 'worldheartday': 143, 'attack': 144, 'stroke': 145, 'vice': 146, 'presid': 147, 'cov': 148, 'mucha': 149, 'gracia': 150, '2018': 151, 'ituri': 152, 'rabi': 153, 'org': 154, 'temporarili': 155, 'alleg': 156, 'deepli': 157, 'regret': 158, 'appar': 159, 'handl': 160, 'view': 161, 'employe': 162, 'bad': 163, 'zero': 164, 'toler': 165, 'neglig': 166, 'certain': 167, 'anonym': 168, 'complain': 169, 'implic': 170, 'proce': 171, 'prioritis': 172, 'guilt': 173, 'structur': 174, 'shortcom': 175, 'cultur': 176, 'adequ': 177, 'ieoac': 178, 'bodi': 179, 'audit': 180, 'establish': 181, 'subject': 182, 'procedur': 183, 'disciplinari': 184, 'misconduct': 185, 'prejudg': 186, 'outcom': 187, 'attribut': 188, 'refer': 189, 'prefer': 190, 'anywher': 191, 'reform': 192, 'complet': 193, 'dg': 194, 'whatev': 195, 'inexcus': 196, 'top': 197, 'sorri': 198, 'reliv': 199, 'courag': 200, 'harrow': 201, 'comment': 202, 'shortli': 203, 'chair': 204, 'present': 205, 'aïchat': 206, 'mindaoud': 207, 'outstand': 208, 'wholesal': 209, 'locat': 210, 'justic': 211, 'psychosoci': 212, 'concern': 213, 'confirm': 214, 'rape': 215, 'consent': 216, 'relev': 217, 'applic': 218, 'termin': 219, 'four': 220, 'employ': 221, 'ban': 222, 'notifi': 223, 'broader': 224, 'name': 225, 'dozen': 226, 'fundament': 227, 'mechan': 228, 'mostli': 229, 'virus': 230, 'hour': 231, 'lifelong': 232, 'hundr': 233, 'consciou': 234, 'serv': 235, 'member': 236, 'state': 237, 'workforc': 238, 'mission': 239, 'expect': 240, 'staff': 241, 'inact': 242, 'suspect': 243, 'incid': 244, 'dark': 245, 'fatal': 246, 'fast': 247, 'individu': 248, 'tend': 249, 'prev': 250, 'thailand': 251, 'solidar': 252, 'search': 253, 'accesstoinfoday': 254, 'expos': 255, 'daili': 256, 'reliabl': 257, 'worldrabiesday': 258, 'onehealth': 259, 'vision': 260, 'damag': 261, 'impair': 262, 'defeat': 263, 'debilit': 264, 'shine': 265, 'victim': 266, 'extern': 267, 'director': 268, 'delay': 269, 'harass': 270, 'taken': 271, 'hr': 272, 'recruit': 273, 'onboard': 274, 'induct': 275, 'perform': 276, 'accept': 277, 'screen': 278, 'candid': 279, 'complex': 280, 'personnel': 281, 'none': 282, 'excus': 283, 'manageri': 284, 'forward': 285, 'voic': 286, 'underway': 287, 'heard': 288, 'act': 289, 'perpetr': 290, 'consequ': 291, 'conduct': 292, 'describ': 293, 'sicken': 294, 'betray': 295, 'paid': 296, 'ultim': 297, 'arm': 298, 'word': 299, 'commiss': 300, 'oversight': 301, 'specif': 302, 'ethiopia': 303, 'involv': 304, 'julienn': 305, 'list': 306, 'cotedivoir': 307, 'foreign': 308, 'disc': 309, 'packag': 310, 'matern': 311, 'newborn': 312, 'drmikeryan': 313, 'advisori': 314, 'manag': 315, 'independ': 316, 'e': 317, 'g': 318, 'covaxin': 319, 'bharat': 320, 'biotech': 321, 'submit': 322, 'camara': 323, 'kandia': 324, 'beaucoup': 325, 'merci': 326, 'inflamm': 327, 'membran': 328, 'surround': 329, 'brain': 330, 'spinal': 331, 'cord': 332, 'predominantli': 333, 'inf': 334, 'block': 335, 'calendar': 336, 'saturday': 337, '00pm': 338, 'kick': 339, 'discuss': 340, 'guest': 341, 'basi': 342, 'request': 343, '27': 344, 'hs': 345, 'decid': 346, 'reproduct': 347, 'unfpa': 348, 'woman': 349, 'lifetim': 350, 'exacerb': 351, 'tragic': 352, '810': 353, 'due': 354, 'complic': 355, 'mindrightsnow': 356, 'former': 357, 'footbal': 358, 'player': 359, 'asean': 360, '65': 361, 'obstetr': 362, 'current': 363, '60': 364, 'review': 365, 'rais': 366, 'final': 367, 'grant': 368, 'digniti': 369, 'highest': 370, 'intensifi': 371, 'childbirth': 372, 'interim': 373, '2025': 374, '90': 375, 'attend': 376, 'checkup': 377, 'birth': 378, 'postnat': 379, 'mening': 380, 'l': 381, 'weight': 382, 'gift': 383, 'endmalaria': 384, 'millennia': 385, 'dream': 386, 'held': 387, 'unattain': 388, 'histori': 389, 'glaxosmithklin': 390, 'malria': 391, 'discoveri': 392, 'evalu': 393, 'insight': 394, 'scientist': 395, 'histor': 396, 'embark': 397, 'replac': 398, 'greatest': 399, 'stride': 400, 'fever': 401, 'travel': 402, 'ten': 403, 'vaccineswork': 404, 'minut': 405, 'recommend': 406, 'groundbreak': 407, 'area': 408, 'moder': 409, 'mohgovgh': 410, 'moh_kenya': 411, 'health_malawi': 412, 'pathtweet': 413, 'gatesfound': 414, 'gavi': 415, 'globalfund': 416, 'unitaid': 417, 'bednet': 418, 'safe': 419, 'smoke': 420, 'elimin': 421, '𝐓𝐨𝐝𝐚𝐲': 422, '𝐖𝐇𝐎': 423, '𝐢𝐬': 424, '𝐫𝐞𝐜𝐨𝐦𝐦𝐞𝐧𝐝𝐢𝐧𝐠': 425, '𝐛𝐫𝐨𝐚𝐝': 426, '𝐨𝐟': 427, '𝐬': 428, '𝐟𝐢𝐫𝐬𝐭': 429, '𝐦𝐚𝐥𝐚𝐫𝐢𝐚': 430, '𝐯𝐚𝐜𝐜𝐢𝐧𝐞': 431, 'ongo': 432, '2019': 433, 'ancient': 434, 'terribl': 435, 'breast': 436, 'await': 437, 'fallen': 438, 'estim': 439, '2000': 440, 'highli': 441, 'cost': 442, 'endmalaira': 443, 'readili': 444, 'demand': 445, 'consist': 446, 'back': 447, 'began': 448, 'stall': 449, 'unaccept': 450, '200': 451, '400': 452, 'five': 453, 'incred': 454, 'past': 455, 'instagramdown': 456, 'facebookdown': 457, 'whatsappdown': 458, 'prematur': 459, '17': 460, 'insulin': 461, 'analogu': 462, 'oral': 463, 'diabet': 464, 'quintillion': 465, 'byte': 466, 'struggl': 467, 'healthdata': 468, 'collabor': 469, 'infrastructur': 470, 'hold': 471, 'ageist': 472, 'attitud': 473, 'dollar': 474, '20': 475, 'decreas': 476, 'epidemiolog': 477, 'insecur': 478, 'divers': 479, 'cпаси': 480, 'бо': 481, 'mikhail': 482, 'murashko': 483, 'russia': 484, 'construct': 485, 'temporari': 486, 'moratorium': 487, 'bruce': 488, 'aylward': 489, 'flourish': 490, 'viru': 491, 'associ': 492, 'financi': 493, 'moral': 494, 'necess': 495, 'fair': 496, 'latin': 497, 'caribbean': 498, 'goldsept': 499, 'zahid': 500, 'malequ': 501, 'bangladesh': 502, 'tran': 503, 'deserv': 504, '21': 505, 'believ': 506, 'revers': 507, 'globalgoalsun': 508, 'truli': 509, 'beyond': 510, 'primaryhealthcar': 511, 'defens': 512, 'america': 513, 'childhood': 514, 'engag': 515, 'proof': 516, 'nepal': 517, 'noncommunic': 518, 'chad': 519, 'hiv': 520, 'aid': 521, 'guatemala': 522, 'assist': 523, 'tropic': 524, 'nigeria': 525, 'polit': 526, 'spur': 527, 'ethic': 528, 'imper': 529, 'unga': 530, 'opportun': 531, 'push': 532, 'enlighten': 533, 'wearamask': 534, 'marcusrashford': 535, 'beactiv': 536, 'healthyathom': 537, 'march': 538, 'pass': 539, 'coronaviru': 540, 'teammessi': 541, 'carlilloyd': 542, 'star': 543, 'kickstart': 544, 'rang': 545, 'joint': 546, 'initi': 547, 'tackl': 548, 'face': 549, 'steep': 550, 'trentaa': 551, 'april': 552, 'ageism': 553, 'domest': 554, 'properli': 555, 'onthisday': 556, 'cell': 557, 'februari': 558, 'themichaelowen': 559, 'diagnost': 560, 'kishida230': 561, 'elect': 562, 'prime': 563, 'japan': 564, 'see': 565, 'unhind': 566, 'wit': 567, 'eu_commiss': 568, 'safehom': 569, 'drmarianeira': 570, 'detriment': 571, 'form': 572, 'hurri': 573, 'shelter': 574, 'person': 575, 'item': 576, 'enorm': 577, 'payoff': 578, 'econom': 579, 'neighbour': 580, 'hotlin': 581, '130': 582, 'busi': 583, 'fix': 584, 'ip': 585, 'satisfi': 586, 'amount': 587, 'dosag': 588, 'neighbor': 589, 'home': 590, 'download': 591, 'promis': 592, 'convers': 593, 'aworld4allag': 594, '300': 595, 'punish': 596, 'hand': 597, 'parent': 598, 'endviol': 599, 'minim': 600, 'repeatedli': 601, 'attent': 602, 'recount': 603, 'interpret': 604, 'judg': 605, 'higher': 606, 'urg': 607, 'affair': 608, 'luseng': 609, 'addit': 610, 'regist': 611, 'measl': 612, '23': 613, 'basic': 614, 'routin': 615, '2009': 616, 'side': 617, 'agenda': 618, 'uncerf': 619, 'quarter': 620, 'unnewsarab': 621, 'saw': 622, 'lebanon': 623, 'circumst': 624, 'chain': 625, 'airlift': 626, 'ship': 627, 'multipl': 628, 'link': 629, 'aspect': 630, 'genderequ': 631, 'chemic': 632, 'keepfoodsaf': 633, 'visibl': 634, 'pay': 635, 'generationequ': 636, 'diphtheria': 637, 'tetanu': 638, 'pertussi': 639, 'india': 640, 'pakistan': 641, 'indonesia': 642, 'thephilippin': 643, 'mexico': 644, 'esp': 645, 'wh': 646, '170': 647, 'ton': 648, 'intl': 649, '𝐭𝐚𝐤𝐞𝐧': 650, '𝐟𝐚𝐜𝐞𝐬': 651, '𝐚𝐧': 652, '𝐢𝐦𝐦𝐢𝐧𝐞𝐧𝐭': 653, '𝐡𝐮𝐦𝐚𝐧𝐢𝐭𝐚𝐫𝐢𝐚𝐧': 654, '𝐜𝐚𝐭𝐚𝐬𝐭𝐫𝐨𝐩𝐡𝐞': 655, 'surg': 656, 'diarrhea': 657, 'unus': 658, 'endpolio': 659, 'brink': 660, 'collaps': 661, 'european': 662, 'union': 663, 'kuwait': 664, 'rehabilit': 665, '𝐀𝐟𝐠𝐡𝐚𝐧𝐢𝐬𝐭𝐚𝐧': 666, '𝐚𝐜𝐭𝐢𝐨𝐧': 667, 'sehatmandi': 668, '𝐮𝐫𝐠𝐞𝐧𝐭': 669, 'simpli': 670, 'abruptli': 671, 'halt': 672, 'paus': 673, 'stock': 674, 'out': 675, 'project': 676, 'backbon': 677, '2300': 678, 'remot': 679, 'taliban': 680, 'boy': 681, 'literaci': 682, 'drain': 683, '𝐔𝐧𝐥𝐞𝐬𝐬': 684, 'toxin': 685, 'parasit': 686, 'contamin': 687, 'battl': 688, 'deadliest': 689, 'diet': 690, 'krw100': 691, 'rotari': 692, 'bts_twt': 693, 'jimin': 694, 'pleasur': 695, 'princ': 696, 'harri': 697, 'meghan': 698, 'duke': 699, 'duchess': 700, 'sussex': 701, 'focus': 702, 'nd': 703, 'eas': 704, '30000': 705, 'near': 706, '4000': 707, 'ppe': 708, 'affirm': 709, 'phase': 710, 'wors': 711, 'systemat': 712, 'nutriti': 713, 'food': 714, 'beatncd': 715, 'malnutrit': 716, 'greenhous': 717, 'ga': 718, 'emiss': 719, 'evolut': 720, 'run': 721, 'ownership': 722, 'anniversari': 723, 'term': 724, 'obes': 725, 'alexand': 726, 'ceo': 727, 'send': 728, 'deepest': 729, 'regard': 730, 'suppo': 731, 'suspend': 732, '228': 733, 'rig': 734, 'planetari': 735, 'ncd': 736, 'detail': 737, 'breastfeed': 738, 'nutrit': 739, 'profit': 740, 'overweight': 741, 'cartercent': 742, 'paig': 743, 'task': 744, 'hav': 745, 'usa': 746, '500': 747, 'sweden': 748, 'sek': 749, 'cash': 750, 'itali': 751, 'spain': 752, '5m': 753, 'denmark': 754, '6m': 755, '73': 756, '61': 757, 'inhabit': 758, 'immin': 759, 'catastroph': 760, 'warehous': 761, 'exampl': 762, 'explos': 763, 'drop': 764, 'breakdown': 765, 'rippl': 766, 'erad': 767, 'cut': 768, 'sehetmandi': 769, 'salari': 770, 'forc': 771, 'hard': 772, 'firsthand': 773, 'defin': 774, 'conclud': 775, 'kabul': 776, 'unless': 777, 'choic': 778, 'namjoon': 779, 'swift': 780, 'fewer': 781, 'yoongi': 782, 'maintain': 783, 'womb': 784, 'observ': 785, 'poor': 786, 'cook': 787, 'inhal': 788, 'dirti': 789, 'pneumonia': 790, 'obstruct': 791, 'pulmonari': 792, 'oblig': 793, 'extens': 794, 'trauma': 795, '67': 796, 'stayanddeliv': 797, 'emphas': 798, 'jin': 799, 'hobi': 800, 'demonstr': 801, 'naseema': 802, 'inju': 803, 'mother': 804, '76th': 805, 'instruct': 806, 'lesser': 807, 'noma': 808, 'gangren': 809, 'poverti': 810, 'cleft': 811, 'mouth': 812, 'oropharynx': 813, 'men': 814, 'vari': 815, 'strongli': 816, 'socio': 817, 'night': 818, 'khan': 819, 'tae': 820, 'akbar': 821, 'jungkook': 822, 'tha': 823, 'mansukhmandviya': 824, 'resum': 825, 'shipment': 826, 'carer': 827, 'isupport': 828, 'teach': 829, 'inevit': 830, 'w': 831, 'specialist': 832, 'worldalzheimersday': 833, 'accur': 834, 'wazir': 835, 'mohammad': 836, 'degre': 837, 'accumul': 838, 'beirut': 839, 'return': 840, 'trip': 841, 'ahm': 842, 'al': 843, 'mandhari': 844, '22': 845, 'tragedi': 846, 'empow': 847, 'underpin': 848, 'ironclad': 849, 'materialis': 850, 'wealthier': 851, 'indian': 852, 'guidelin': 853, 'corpor': 854, 'fastest': 855, 'geneva': 856, 'strain': 857, 'industri': 858, 'afghnaistan': 859, 'port': 860, 'destroy': 861, 'store': 862, 'shortag': 863, 'electr': 864, '1500': 865, 'left': 866, '600': 867, 'pharmaci': 868, 'deadli': 869, 'lose': 870, 'parliament': 871, 'natl': 872, 'dialogu': 873, 'object': 874, 'ef': 875, 'agricultur': 876, '2005': 877, 'pm₁₀': 878, '₅': 879, 'particular': 880, 'penetr': 881, 'deep': 882, 'inflict': 883, 'previous': 884, 'understood': 885, 'novemb': 886, 'clean': 887, 'path': 888, 'robust': 889, 'nitrogen': 890, 'dioxid': 891, 'sulphur': 892, 'ozon': 893, 'pm₂': 894, 'particul': 895, 'wast': 896, 'small': 897, 'household': 898, 'dust': 899, 'biggest': 900, 'environment': 901, 'mitig': 902, 'ischaem': 903, 'outdoor': 904, 'evid': 905, 'neurodegen': 906, 'noth': 907, 'growth': 908, 'respiratori': 909, 'aggrav': 910, 'asthma': 911, 'sdg': 912, 'agre': 913, 'fourth': 914, 'activist': 915, 'council': 916, 'blend': 917, 'format': 918, 'iarcwho': 919, 'encor': 920, 'monsieur': 921, 'président': 922, 'metropol': 923, 'lip': 924, 'forecast': 925, 'owe': 926, 'abil': 927, 'design': 928, 'invalu': 929, 'complement': 930, 'tech': 931, 'unlik': 932, 'multilingu': 933, 'rapid': 934, 'offici': 935, 'cohort': 936, 'agenc': 937, 'date': 938, '250': 939, 'devast': 940, 'capabl': 941, 'virtual': 942, 'augment': 943, 'artifici': 944, 'game': 945, 'maximum': 946, 'vast': 947, 'desktop': 948, 'devic': 949, 'bandwidth': 950, 'therebi': 951, 'field': 952, 'futurist': 953, 'smart': 954, 'decent': 955, 'faster': 956, 'real': 957, 'told': 958, 'dual': 959, 'communic': 960, 'facet': 961, '2017': 962, 'gratitud': 963, 'alain': 964, 'merieux': 965, 'gerard': 966, 'mestrallet': 967, 'buffet': 968, 'rhone': 969, 'alp': 970, 'appli': 971, 'inadequ': 972, 'architectur': 973, 'classroom': 974, 'eco': 975, 'friendli': 976, 'bio': 977, 'district': 978, 'extend': 979, 'actacceler': 980, 'root': 981, 'belong': 982, 'personalis': 983, 'art': 984, '38': 985, 'enrol': 986, 'constantli': 987, 'evolv': 988, 'tradit': 989, 'regulatori': 990, 'gain': 991, 'formal': 992, 'dog': 993, 'wash': 994, 'wound': 995, 'thoroughli': 996, 'minimum': 997, '15': 998, 'soap': 999, 'deterg': 1000, 'povidon': 1001, 'iodin': 1002, 'substanc': 1003, 'internationalsafeabortionday': 1004, 'bite': 1005, 'globe': 1006, 'whoacademi': 1007, 'campu': 1008, 'bitten': 1009, '100': 1010, '2023': 1011, 'margin': 1012, 'conflict': 1013, 'appoint': 1014, '10th': 1015, 'wto': 1016, 'underserv': 1017, 'abort': 1018, 'ye': 1019, 'necessari': 1020, 'skill': 1021, 'durat': 1022, 'method': 1023, 'stigmat': 1024, 'unsaf': 1025, 'disproportion': 1026, 'poorest': 1027, 'lyon': 1028, 'reflect': 1029, 'credenti': 1030, 'franc': 1031, 'olivierveran': 1032, 'ceremoni': 1033, 'host': 1034, 'class': 1035, 'simul': 1036, 'fidel': 1037, 'sharpen': 1038, 'amid': 1039, 'realist': 1040, 'scenario': 1041, 'casualti': 1042, 'learner': 1043, 'streamlin': 1044, 'breadth': 1045, 'flagship': 1046, '120': 1047, 'emmanuelmacron': 1048, 'ambit': 1049, 'dissemin': 1050, 'modest': 1051, 'moment': 1052, 'prepar': 1053, 'driver': 1054, 'princip': 1055, 'investor': 1056, 'auvergn': 1057, 'centuri': 1058, 'auvergnerhalp': 1059, '25': 1060, 'euro': 1061, 'leas': 1062, 'academi': 1063, 'knowledg': 1064, 'actor': 1065, 'goe': 1066, '1851': 1067, 'sanitari': 1068, 'uzbekistan': 1069, 'fear': 1070, 'grief': 1071, 'anger': 1072, 'joy': 1073, 'simpl': 1074, 'sequel': 1075, 'releas': 1076, 'kind': 1077, 'orang': 1078, 'creatur': 1079, 'unicorn': 1080, 'horn': 1081, 'infecti': 1082, 'killer': 1083, 'treatabl': 1084, 'explor': 1085, 'uganda': 1086, 'disea': 1087, 'resurg': 1088, 'unintend': 1089, 'worldcontraceptionday': 1090, 'sex': 1091, 'consensu': 1092, 'inject': 1093, 'app': 1094, 'familyplan': 1095, 'client': 1096, 'stigma': 1097, 'discrimin': 1098, 'wide': 1099, 'correctli': 1100, 'unwant': 1101, 'preventin': 1102, 'race': 1103, 'curabl': 1104, 'fr': 1105, 'male': 1106, 'boost': 1107, 'statement': 1108, 'tb': 1109, 'confid': 1110, 'hesit': 1111, 'tailor': 1112, 'howev': 1113, 'procur': 1114, 'transact': 1115, 'advocaci': 1116, 'provis': 1117, 'lag': 1118, 'endtb': 1119, 'aminajmoham': 1120, 'agnes_kalibata': 1121, '800': 1122, 'depend': 1123, 'commend': 1124, 'accomplish': 1125, 'potu': 1126, 'sdg3': 1127, '37': 1128, 'turn': 1129, 'disinform': 1130, 'front': 1131, 'safeti': 1132, 'covidsummit': 1133, 'compact': 1134, 'treati': 1135, 'guarante': 1136, 'remedi': 1137, 'underinvest': 1138, 'covidsummi': 1139, 'impedi': 1140, 'sequenc': 1141, 'femal': 1142, 'condom': 1143, 'pari': 1144, 'biennium': 1145, 'flexibl': 1146, 'themat': 1147, 'assign': 1148, 'framework': 1149, 'agreement': 1150, 'legal': 1151, 'instrument': 1152, 'operation': 1153, 'proud': 1154, 'fruit': 1155, 'spearhead': 1156, 'storybook': 1157, 'hero': 1158, 'teacher': 1159, 'openli': 1160, '77': 1161, '134': 1162, 'novel': 1163, '115': 1164, 'offic': 1165, 'hygien': 1166, 'forerunn': 1167, '1907': 1168, 'inde': 1169, 'longstand': 1170, 'becam': 1171, 'mark': 1172, 'broke': 1173, 'ground': 1174, '14': 1175, 'fa': 1176, 'uhcpartnership': 1177, 'largest': 1178, 'expertis': 1179, 'origin': 1180, 'click': 1181, 'option': 1182, 'spanish': 1183, 'translat': 1184, 'drew': 1185, 'survey': 1186, '5000': 1187, 'second': 1188, 'eltonoffici': 1189, 'shoutout': 1190, 'whofound': 1191, 'gogiveon': 1192, 'pill': 1193, 'transmit': 1194, 'contracept': 1195, 'predecessor': 1196, 'ifrc': 1197, 'mhpsscollabora1': 1198, 'swahili': 1199, 'russian': 1200, '24': 1201, 'portugues': 1202, 'cet': 1203, '29': 1204, 'excel': 1205, 'reopen': 1206, 'nomin': 1207, 'order': 1208, 'attract': 1209, 'geograph': 1210, 'book': 1211, 'kid': 1212, 'arab': 1213, 'bengali': 1214, 'chines': 1215, 'english': 1216, 'french': 1217, 'save': 1218, '800k': 1219, 'worrisom': 1220, 'sprawl': 1221, 'mass': 1222, 'outbreak': 1223, 'increas': 1224, 'yellowfev': 1225, 'except': 1226, 'find': 1227, 'proxim': 1228, 'expans': 1229, 'conven': 1230, 'close': 1231, 'billion': 1232, 'disord': 1233, 'despit': 1234, 'magnitud': 1235, 'mental': 1236, 'rel': 1237, 'citi': 1238, 'move': 1239, 'emrc68': 1240, 'committe': 1241, 'decad': 1242, 'abl': 1243, 'grow': 1244, 'much': 1245, 'still': 1246, 'wellb': 1247, 'prioriti': 1248, 'decis': 1249, 'stay': 1250, 'prevent': 1251, 'pregnanc': 1252, 'transform': 1253, 'power': 1254, 'whoemro': 1255, 'region': 1256, 'aroun': 1257, 'ario': 1258, 'tiger': 1259, 'intervent': 1260, '323': 1261, 'treatment': 1262, 'cours': 1263, 'who_europ': 1264, 'realiti': 1265, 'idea': 1266, 'adv': 1267, 'sometim': 1268, 'news': 1269, 'may': 1270, 'get': 1271, 'okay': 1272, 'switch': 1273, 'whoindonesia': 1274, 'jika': 1275, '2021': 1276, 'therapeut': 1277, 'buddi': 1278, 'part': 1279, 'hope': 1280, 'well': 1281, 'even': 1282, 'whonamibia': 1283, 'worldmentalhealthday': 1284, 'significantli': 1285, 'tim': 1286, 'whosyria': 1287, 'onset': 1288, '333': 1289, '000': 1290, 'children': 1291, 'caregiv': 1292, 'elderli': 1293, 'ca': 1294, 'two': 1295, 'last': 1296, 'made': 1297, 'greener': 1298, 'listen': 1299, '2': 1300, 'place': 1301, 'climat': 1302, 'talk': 1303, 'har': 1304, 'benefit': 1305, 'action': 1306, 'build': 1307, 'creat': 1308, 'energi': 1309, 'climatecrisi': 1310, 'harm': 1311, 'thing': 1312, 'special': 1313, 'futur': 1314, 'fairer': 1315, 'explain': 1316, 'healthier': 1317, 'particip': 1318, 'focu': 1319, 'recogn': 1320, 'reimagin': 1321, 'urban': 1322, 'environ': 1323, 'transport': 1324, 'mobil': 1325, '7': 1326, 'restor': 1327, 'natur': 1328, 'promot': 1329, 'foodsystem': 1330, '9': 1331, 'financ': 1332, 'report': 1333, 'media': 1334, 'progress': 1335, 'social': 1336, 'safer': 1337, 'nearli': 1338, 'experi': 1339, 'physic': 1340, 'intim': 1341, 'use': 1342, 'address': 1343, 'context': 1344, 'everi': 1345, 'afford': 1346, 'qualiti': 1347, 'servic': 1348, 'respect': 1349, 'equal': 1350, 'healthforal': 1351, 'space': 1352, 'make': 1353, 'contribut': 1354, 'let': 1355, 'educ': 1356, 'counsel': 1357, 'relat': 1358, 'sexual': 1359, 'ident': 1360, 'relationship': 1361, 'among': 1362, 'adolesc': 1363, 'comprehens': 1364, 'ict': 1365, 'facilit': 1366, 'violenc': 1367, 'women': 1368, 'continu': 1369, 'heighten': 1370, 'anda': 1371, 'mengetahui': 1372, 'seseorang': 1373, 'dépression': 1374, 'plu': 1375, 'répandu': 1376, 'afriqu': 1377, 'pourtant': 1378, '85': 1379, 'personn': 1380, 'qui': 1381, 'souffrent': 1382, 'n': 1383, 'ont': 1384, 'pa': 1385, 'ac': 1386, 'pahowho': 1387, 'barrier': 1388, 'ne': 1389, 'troubl': 1390, 'oms_afriqu': 1391, 'consid': 1392, 'ov': 1393, '𝘢𝘧𝘳𝘢𝘪𝘥': 1394, '𝘵𝘰': 1395, '𝘴𝘦𝘦𝘬': 1396, '𝘩𝘦𝘭𝘱': 1397, '𝘞𝘪𝘵𝘩': 1398, '𝘵𝘩𝘦': 1399, '𝘳𝘪𝘨𝘩𝘵': 1400, '𝘴𝘶𝘱𝘱𝘰𝘳𝘵': 1401, '𝘺𝘰𝘶': 1402, '𝘤𝘢𝘯': 1403, '𝘨𝘦𝘵': 1404, '𝘣𝘦𝘵𝘵𝘦𝘳': 1405, 'dyk': 1406, 'disabl': 1407, 'contributor': 1408, 'know': 1409, 'suicid': 1410, '𝘵': 1411, 'ha': 1412, 'especialment': 1413, 'dura': 1414, 'para': 1415, 'nuestro': 1416, 'reconoc': 1417, 'su': 1418, 'experiencia': 1419, 'invitamo': 1420, 'stop': 1421, 'alon': 1422, 'student': 1423, 'livin': 1424, 'alissonbeck': 1425, 'fifacom': 1426, 'feel': 1427, 'sido': 1428, 'pandemia': 1429, 'way': 1430, 'opsomsmexico': 1431, 'might': 1432, 'opsomsbolivia': 1433, 'conoc': 1434, 'alguien': 1435, 'que': 1436, 'esté': 1437, 'pasando': 1438, 'por': 1439, 'compart': 1440, 'esto': 1441, 'mensaj': 1442, 'todo': 1443, 'podemo': 1444, 'ayudar': 1445, 'diamundialdelasaludm': 1446, '𝘣𝘦': 1447, '𝘋𝘰𝘯': 1448, 'yang': 1449, 'spend': 1450, 'phone': 1451, 'pleas': 1452, 'worldmentalhea': 1453, 'seven': 1454, 'sub': 1455, 'saharan': 1456, 'signific': 1457, 'psycholog': 1458, 'hardship': 1459, 'high': 1460, 'burd': 1461, 'onu_': 1462, 'la': 1463, 'depresión': 1464, 'le': 1465, 'laptop': 1466, 'worldmentalhealth': 1467, 'cualquiera': 1468, 'difficult': 1469, 'mungkin': 1470, 'berpikir': 1471, 'untuk': 1472, 'mengakhiri': 1473, 'hidup': 1474, 'berbicaralah': 1475, 'dengan': 1476, 'mereka': 1477, 'mengenai': 1478, 'apa': 1479, 'ya': 1480, 'import': 1481, 'touch': 1482, 'love': 1483, 'one': 1484, 'suced': 1485, 'es': 1486, 'rememb': 1487, 'gantsengel': 1488, 'whomald': 1489, 'pregnant': 1490, 'babi': 1491, 'caus': 1492, 'worri': 1493, 'tired': 1494, 'sad': 1495, 'wonder': 1496, 'pre': 1497, 'whomalawi': 1498, 'someon': 1499, 'valuabl': 1500, 'whotimor': 1501, 'think': 1502, 'depress': 1503, 'pur': 1504, 'worker': 1505, 'un': 1506, 'oath': 1507, 'signo': 1508, 'de': 1509, 'debilidad': 1510, 'una': 1511, 'enfermedad': 1512, 'tien': 1513, 'tratamiento': 1514, 'en': 1515, 'est': 1516, 'díadel': 1517, 'whowpro': 1518, 'differ': 1519, 'grandmoth': 1520, 'grandfath': 1521, 'loyal': 1522, 'annual': 1523, 'school': 1524, 'tough': 1525, 'human': 1526, 'appreci': 1527, 'role': 1528, 'privat': 1529, 'sector': 1530, 'play': 1531, 'develop': 1532, 'short': 1533, 'fail': 1534, 'integr': 1535, 'miser': 1536, 'injustic': 1537, 'debat': 1538, 'whether': 1539, 'intellectu': 1540, 'properti': 1541, 'right': 1542, 'drtedro': 1543, 'checkbeforeyoushar': 1544, 'share': 1545, 'verifi': 1546, 'está': 1547, 'completament': 1548, 'vacunado': 1549, 'aún': 1550, 'pued': 1551, 'contraer': 1552, 'covid': 1553, '19': 1554, 'importa': 1555, 'todavía': 1556, 'esperando': 1557, 'whosearo': 1558, 'inform': 1559, 'come': 1560, 'sourc': 1561, 'waiv': 1562, 'major': 1563, 'impact': 1564, 'die': 1565, 'age': 1566, '31': 1567, '8': 1568, 'month': 1569, 'diagnosi': 1570, 'although': 1571, 'life': 1572, 'donat': 1573, 'enough': 1574, 'deliv': 1575, 'vaccinequ': 1576, 'end': 1577, 'pandem': 1578, 'stronger': 1579, 'leadership': 1580, 'cervicalcanc': 1581, 'lack': 1582, 'mentalhealth': 1583, 'henrietta': 1584, 'thank': 1585, 'doctorja': 1586, 'whophilippin': 1587, 'dedic': 1588, 'broad': 1589, 'administr': 1590, 'booster': 1591, 'dose': 1592, 'unfair': 1593, 'unjust': 1594, 'immor': 1595, 'time': 1596, 'healthwork': 1597, 'mani': 1598, '1951': 1599, 'si': 1600, 'opsom': 1601, 'pop': 1602, 'health': 1603, 'respons': 1604, 'start': 1605, 'learn': 1606, 'today': 1607, 'amp': 1608, 'ready4respons': 1609, 'covid19': 1610, 'shown': 1611, 'affect': 1612, 'entir': 1613, 'commun': 1614, 'especi': 1615, 'weak': 1616, 'system': 1617, 'vulner': 1618, 'emerg': 1619, 'public': 1620, 'like': 1621, 'within': 1622, 'day': 1623, 'disast': 1624, 'risk': 1625, 'reduct': 1626, 'openwho': 1627, 'launch': 1628, 'multi': 1629, 'tier': 1630, 'core': 1631, 'curriculum': 1632, 'help': 1633, 'equip': 1634, 'compet': 1635, 'need': 1636, 'work': 1637, 'popul': 1638, 'migrant': 1639, '10': 1640, 'ensur': 1641, 'equit': 1642, 'access': 1643, 'suppli': 1644, 'strong': 1645, 'resili': 1646, 'rt': 1647, 'whoafro': 1648, 'congratul': 1649, 'algeria': 1650, '16th': 1651, 'africa': 1652, 'reach': 1653, 'mileston': 1654, 'fulli': 1655, 'vaccin': 1656, 'readi': 1657, 'group': 1658, 'indigen': 1659, 'marginalis': 1660, 'peopl': 1661, 'live': 1662, 'fragil': 1663, 'humanitarian': 1664, 'condit': 1665, 'better': 1666, 'respond': 1667, 'countri': 1668, 'must': 1669, 'invest': 1670, 'care': 1671, 'achiev': 1672, 'gender': 1673, 'equiti': 1674, 'protect': 1675, 'ramp': 1676, 'whoafghanistan': 1677, 'nine': 1678, 'drive': 1679, 'could': 1680, 'reduc': 1681, 'number': 1682, 'death': 1683, 'air': 1684, 'pollut': 1685, '80': 1686, 'year': 1687, 'dayofthegirl': 1688, 'theme': 1689, 'digit': 1690, 'gener': 1691, 'onlin': 1692, 'resourc': 1693, 'enabl': 1694, 'climatechang': 1695, 'fuel': 1696, 'join': 1697, 'fossil': 1698, 'global': 1699, 'warm': 1700, 'c': 1701, 'put': 1702, 'center': 1703, 'plan': 1704, 'read': 1705, 'around': 1706, 'breath': 1707, 'unhealthi': 1708, 'level': 1709, 'airpollut': 1710, 'larg': 1711, 'result': 1712, 'burn': 1713, 'girl': 1714, 'us': 1715, 'step': 1716, 'storm': 1717, 'thousand': 1718, 'disrupt': 1719, 'threaten': 1720, 'healthcar': 1721, 'facil': 1722, 'partner': 1723, 'forum': 1724, 'goodwil': 1725, 'ambassador': 1726, 'momgerm': 1727, 'co': 1728, 'also': 1729, 'advanc': 1730, 'effort': 1731, 'support': 1732, 'kill': 1733, 'flood': 1734, 'celebr': 1735, 'wave': 1736, 'chang': 1737, 'legaci': 1738, 'whose': 1739, 'helacel': 1740, 'breakthrough': 1741, 'hpv': 1742, 'polio': 1743, 'research': 1744, 'lacksfamili': 1745, 'honour': 1746, 'healthequ': 1747, 'extrem': 1748, 'weather': 1749, 'event': 1750, 'heat': 1751, 'limit': 1752, 'leader': 1753, 'flight': 1754, 'challeng': 1755, 'new': 1756, 'road': 1757, 'inclus': 1758, 'recoveri': 1759, 'good': 1760, 'meet': 1761, 'chikwe_i': 1762, 'soon': 1763, 'head': 1764, 'surveil': 1765, 'incl': 1766, 'hub': 1767, 'ep': 1768, 'q': 1769, 'post': 1770, 'across': 1771, 'patient': 1772, 'diazjv': 1773, 'ill': 1774, 'arriv': 1775, 'afghanistan': 1776, 'total': 1777, '1': 1778, '6': 1779, 'metric': 1780, 'tonn': 1781, 'sinc': 1782, 'august': 1783, '30': 1784, 'medic': 1785, 'oxygen': 1786, 'vital': 1787, 'treat': 1788, 'critic': 1789, 'dr': 1790, 'joni': 1791, 'world': 1792, 'set': 1793, 'commit': 1794, 'sustain': 1795, 'healthi': 1796, 'green': 1797, 'assur': 1798, 'ahead': 1799, 'cop26': 1800, '3': 1801, '0': 1802, 'organ': 1803, 'least': 1804, '4': 1805, '5': 1806, 'million': 1807, 'worldwid': 1808, 'ambiti': 1809, 'call': 1810, 'savolainen': 1811, 'climateact': 1812, 'longcovidso': 1813, 'repres': 1814, 'askwho': 1815, 'clinic': 1816, 'lead': 1817, '5pm': 1818, 'cest': 1819, 'twitter': 1820, 'facebook': 1821, 'linkedin': 1822, 'youtub': 1823, 'tune': 1824, 'ask': 1825, 'question': 1826, 'take': 1827, 'reachout': 1828, 'never': 1829, 'malawi': 1830, 'three': 1831, 'guidanc': 1832, 'capac': 1833, 'partnership': 1834, 'coordin': 1835, 'intellig': 1836, 'innov': 1837, 'monitor': 1838, 'compil': 1839, 'long': 1840, 'data': 1841, 'legisl': 1842, 'avail': 1843, 'util': 1844, 'collect': 1845, 'govuk': 1846, 'closer': 1847, 'oper': 1848, 'implement': 1849, 'sprp': 1850, 'prepared': 1851, '2020': 1852, 'toward': 1853, 'other': 1854, 'afghan': 1855, 'fall': 1856, 'winter': 1857, 'approach': 1858, 'cluster': 1859, 'p': 1860, 'visit': 1861, 'budget': 1862, 'spent': 1863, 'scarc': 1864, 'hover': 1865, 'strateg': 1866, 'look': 1867, 'someth': 1868, 'sound': 1869, 'content': 1870, 'mount': 1871, 'unpreced': 1872, 'covi': 1873, 'outlin': 1874, 'manufactur': 1875, 'civil': 1876, 'societi': 1877, 'requir': 1878, 'suffici': 1879, 'perspect': 1880, 'distribut': 1881, 'speed': 1882, 'mid': 1883, '2022': 1884, 'older': 1885, 'begin': 1886, 'mislead': 1887, 'unbeliev': 1888, 'spread': 1889, 'analys': 1890, 'fact': 1891, 'awar': 1892, 'headlin': 1893, 'alway': 1894, 'tell': 1895, 'whole': 1896, 'articl': 1897, 'mayb': 1898, 'go': 1899, 'clear': 1900, 'assess': 1901, 'true': 1902, 'fals': 1903, 'socialmedia': 1904, 'target': 1905, 'extr': 1906, 'shortfal': 1907, 'acceler': 1908, 'roll': 1909, 'palonsomalaria': 1910, 'sciencein5': 1911, 'week': 1912, 'great': 1913, 'profil': 1914, 'piec': 1915, 'dévora': 1916, 'kestel': 1917, 'expert': 1918, 'unicef': 1919, 'senior': 1920, 'technic': 1921, 'advisor': 1922, 'threat': 1923, 'malaria': 1924, 'transfer': 1925, 'inequ': 1926, 'centr': 1927, 'becom': 1928, 'endem': 1929, 'mvankerkhov': 1930, 'yet': 1931, 'chiara': 1932, 'servili': 1933, 'child': 1934, 'met': 1935, 'ministri': 1936, 'central': 1937, 'hospit': 1938, 'institut': 1939, 'inpati': 1940, 'fund': 1941, 'primari': 1942, 'variant': 1943, 'fight': 1944, 'issu': 1945, 'salud': 1946, 'persona': 1947, 'hagámosla': 1948, 'realidad': 1949, '70': 1950, 'expenditur': 1951, 'alloc': 1952, 'middl': 1953, 'incom': 1954, 'vs': 1955, '35': 1956, 'colleagu': 1957, 'alisonbruni': 1958, 'atla': 1959, 'acut': 1960, 'heed': 1961, 'toda': 1962, 'atención': 1963, 'fire': 1964, 'vivo': 1965, 'without': 1966, 'engin': 1967, 'hose': 1968, 'water': 1969, 'donor': 1970, 'done': 1971, 'far': 1972, 'suppress': 1973, 'transmiss': 1974, 'exposur': 1975, 'mortal': 1976, 'morbid': 1977, 'counter': 1978, 'misinform': 1979, 'tool': 1980, 'adult': 1981, 'full': 1982, '40': 1983, '𝐭𝐡𝐞𝐦': 1984, '𝐚𝐧𝐝': 1985, '𝐬𝐡𝐚𝐫𝐞': 1986, '𝐟𝐚𝐢𝐫𝐥𝐲': 1987, 'compani': 1988, 'control': 1989, 'african': 1990, 'acquisit': 1991, 'given': 1992, 'septemb': 1993, 'almost': 1994, 'alreadi': 1995, 'administ': 1996, 'product': 1997, 'per': 1998, '11': 1999, '𝐩𝐫𝐨𝐩𝐞𝐫𝐥𝐲': 2000, '𝐮𝐬𝐞': 2001, 'earlier': 2002, '𝐰𝐞': 2003, 'immun': 2004, 'economi': 2005, 'restart': 2006, 'base': 2007, '𝐖𝐞': 2008, '𝐡𝐚𝐯𝐞': 2009, '𝐭𝐡𝐞': 2010, '𝐭𝐨𝐨𝐥𝐬': 2011, '𝐭𝐨': 2012, '𝐛𝐫𝐢𝐧𝐠': 2013, '𝐂𝐎𝐕𝐈𝐃𝟏𝟗': 2014, '𝐩𝐚𝐧𝐝𝐞𝐦𝐢𝐜': 2015, '𝐮𝐧𝐝𝐞𝐫': 2016, '𝐜𝐨𝐧𝐭𝐫𝐨𝐥': 2017, '𝐢𝐟': 2018, 'next': 2019, '56': 2020, 'cooper': 2021, 'ago': 2022, 'anticip': 2023, 'trial': 2024, 'sure': 2025, 'linger': 2026, 'sick': 2027, 'ever': 2028, 'kate_l_obrien': 2029, 'answer': 2030, 'want': 2031, 'career': 2032, 'would': 2033, 'introduc': 2034, 'pilot': 2035, 'ghana': 2036, 'kenya': 2037, 'eagerli': 2038, 'exactli': 2039, 'fault': 2040, 'confer': 2041, 'upper': 2042, '75': 2043, 'low': 2044, 'half': 2045, 'percent': 2046, 'third': 2047, 'mask': 2048, 'horrifi': 2049, 'approv': 2050, 'record': 2051, 'summit': 2052, 'scientif': 2053, 'precipic': 2054, 'scienc': 2055, 'press': 2056, 'substanti': 2057, 'succeed': 2058, 'track': 2059, 'recognit': 2060, 'author': 2061, 'maker': 2062, 'adopt': 2063, 'longer': 2064, 'fatigu': 2065, 'cognit': 2066, 'dysfunct': 2067, 'function': 2068, 'occur': 2069, 'cannot': 2070, 'altern': 2071, 'publish': 2072, 'effect': 2073, 'felt': 2074, 'known': 2075, 'nation': 2076, 'crucial': 2077, 'bank': 2078, 'appropri': 2079, 'poorer': 2080, 'richer': 2081, 'rate': 2082, 'greater': 2083, 'consult': 2084, 'clinician': 2085, 'stakehold': 2086, 'definit': 2087, '44': 2088, 'determin': 2089, 'process': 2090, 'remark': 2091, 'brief': 2092, 'standard': 2093, 'easili': 2094, 'multilater': 2095, 'rapidli': 2096, 'said': 2097, 'produc': 2098, 'free': 2099, 'cross': 2100, 'border': 2101, 'flow': 2102, 'finish': 2103, 'raw': 2104, 'technolog': 2105, 'swap': 2106, 'schedul': 2107, 'pledg': 2108, 'updat': 2109, 'guid': 2110, 'antonioguterr': 2111, 'delight': 2112, 'secretari': 2113, 'allow': 2114, 'licens': 2115, 'capit': 2116, 'exclus': 2117, 'deliveri': 2118, 'programm': 2119, 'effici': 2120, 'local': 2121, 'test': 2122, 'actogeth': 2123, 'priorit': 2124, 'fulfil': 2125, 'contract': 2126, 'covax': 2127, 'avat': 2128, 'matter': 2129, 'urgenc': 2130, 'transpar': 2131, 'non': 2132, 'stand': 2133, 'strengthen': 2134, 'walk': 2135, 'problem': 2136, 'hopeless': 2137, 'loneli': 2138, 'constant': 2139, 'neg': 2140, 'difficulti': 2141, 'imagin': 2142, 'deal': 2143, 'worth': 2144, 'maimunahsharif': 2145, 'provid': 2146, 'easi': 2147, 'materi': 2148, 'showcas': 2149, 'highlight': 2150, '𝘐𝘧': 2151, '𝘳𝘦': 2152, 'worthless': 2153, 'unbear': 2154, 'overwhelm': 2155, 'seem': 2156, 'malaysia': 2157, 'minist': 2158, 'khair': 2159, 'self': 2160, 'sign': 2161, 'sever': 2162, 'emot': 2163, 'distress': 2164, '𝘪𝘵': 2165, '𝘢': 2166, '𝘸𝘦𝘢𝘬𝘯𝘦𝘴𝘴': 2167, 'gone': 2168, 'experienc': 2169, 'follow': 2170, 'pain': 2171, '𝘸𝘰𝘳𝘳𝘪𝘦𝘥': 2172, 'r𝘪𝘴𝘬': 2173, '𝘰𝘧': 2174, 'twitterspac': 2175, 'ventevogelpet': 2176, 'refuge': 2177, 'mood': 2178, 'withdraw': 2179, 'express': 2180, 'behaviour': 2181, 'possibl': 2182, 'show': 2183, '𝘐𝘵': 2184, '𝘴': 2185, '𝘖𝘒': 2186, '𝘢𝘴𝘬': 2187, '𝘴𝘰𝘮𝘦𝘰𝘯𝘦': 2188, '𝘵𝘩𝘦𝘺': 2189, '𝘵𝘩𝘪𝘯𝘬𝘪𝘯𝘨': 2190, 'fahmy__hanna__': 2191, 'possess': 2192, '𝘴𝘶𝘪𝘤𝘪𝘥𝘦': 2193, 'valu': 2194, '𝘵𝘢𝘭𝘬': 2195, '𝘵𝘩𝘦𝘮': 2196, '𝘓𝘪𝘴𝘵𝘦𝘯': 2197, '𝘸𝘪𝘵𝘩': 2198, '𝘢𝘯': 2199, '𝘰𝘱𝘦𝘯': 2200, '𝘮𝘪𝘯𝘥': 2201, '𝘢𝘯𝘥': 2202, '𝘰𝘧𝘧𝘦𝘳': 2203, '𝘺𝘰𝘶𝘳': 2204, 'warn': 2205, 'goodby': 2206, 'friend': 2207, 'miss': 2208, 'give': 2209, 'open': 2210, 'rgrosjean': 2211, 'line': 2212, 'essenti': 2213, 'profession': 2214, 'jordan': 2215, 'lost': 2216, 'job': 2217, 'lucki': 2218, 'found': 2219, 'everyon': 2220, 'everywher': 2221, 'dear': 2222, 'teresa': 2223, 'enk': 2224, 'messag': 2225, 'remain': 2226, 'midst': 2227, 'flotu': 2228, 'seek': 2229, 'anxieti': 2230, 'encourag': 2231, 'led': 2232, 'togeth': 2233, 'tolus': 2234, 'sociabl': 2235, 'outgo': 2236, 'took': 2237, 'away': 2238, 'point': 2239, 'overcom': 2240, 'watch': 2241, 'stori': 2242, 'arsha': 2243, 'first': 2244, 'famili': 2245, 'infect': 2246, 'quarantin': 2247, 'campaign': 2248, 'ok': 2249, 'crisi': 2250, '𝘭𝘪𝘬𝘦': 2251, '𝘪𝘴': 2252, '𝘯𝘰𝘵': 2253, '𝘸𝘰𝘳𝘵𝘩': 2254, '𝘭𝘪𝘷𝘪𝘯𝘨': 2255, '𝘢𝘳𝘦': 2256, '𝘢𝘭𝘰𝘯𝘦': 2257, '𝘙𝘦𝘢𝘤𝘩': 2258, '𝘰𝘶𝘵': 2259, '𝘧𝘰𝘳': 2260, 'letstalk': 2261, 'thought': 2262, 'trust': 2263, 'immedi': 2264, 'danger': 2265, 'contact': 2266, '𝘭𝘪𝘧𝘦': 2267, '𝘧𝘦𝘦𝘭': 2268, 'common': 2269, '𝘪𝘧': 2270, 'therapi': 2271, 'combin': 2272, 'laxmi': 2273, 'counsellor': 2274, 'seriou': 2275, 'gap': 2276, 'chronic': 2277, 'sebastian': 2278, 'say': 2279, 'cope': 2280, 'hear': 2281, 'helen': 2282, 'speak': 2283, 'truth': 2284, '𝘙𝘦𝘮𝘦𝘮𝘣𝘦𝘳': 2285, '𝘢𝘣𝘰𝘶𝘵': 2286, '𝘰𝘧𝘵𝘦𝘯': 2287, '𝘳𝘦𝘥𝘶𝘤𝘦𝘴': 2288, 'identifi': 2289, 'receiv': 2290, 'behind': 2291, 'team': 2292, 'includ': 2293, 'doctor': 2294, 'nurs': 2295, 'pharmacist': 2296, 'physiotherapist': 2297, 'volunt': 2298, 'flmandra': 2299, 'saraheklin': 2300, 'tesskunik': 2301, 'suicideprevent': 2302, 'aim': 2303, 'cancer': 2304, 'best': 2305, 'concert': 2306, 'alexandra': 2307, 'advoc': 2308, 'reliev': 2309, 'suffer': 2310, 'breathless': 2311, 'separ': 2312, 'bring': 2313, 'comfort': 2314, 'univers': 2315, 'coverag': 2316, 'uhc': 2317, 'practic': 2318, 'polici': 2319, 'strategi': 2320, 'measur': 2321, 'understand': 2322, 'key': 2323, 'neurolog': 2324, 'fleischmann': 2325, 'scale': 2326, 'medicin': 2327, 'info': 2328, 'chiara__servili': 2329, 'zeinabhijazi': 2330, 'tolusefr': 2331, 'young': 2332, 'govern': 2333, 'investig': 2334, 'huge': 2335, 'ta': 2336, 'heart': 2337, 'failur': 2338, 'lung': 2339, 'solut': 2340, 'memorandum': 2341, 'sister': 2342, 'spiritu': 2343, 'declar': 2344, 'radiat': 2345, 'previou': 2346, 'chemotherapi': 2347, 'dementia': 2348, 'resist': 2349, 'tuberculosi': 2350, 'earli': 2351, 'vomit': 2352, 'yesterday': 2353, 'drc': 2354, 'announc': 2355, 'ebola': 2356, 'case': 2357, 'detect': 2358, 'north': 2359, 'kivu': 2360, 'provinc': 2361, 'improv': 2362, 'palliativecar': 2363, '𝘢𝘯𝘹𝘪𝘦𝘵𝘺': 2364, 'check': 2365, 'sucid': 2366, 'tri': 2367, 'isol': 2368, 'alcohol': 2369, 'drug': 2370, 'abus': 2371, 'survivor': 2372, 'attempt': 2373, 'prior': 2374, 'factor': 2375, '𝘐𝘯': 2376, '𝘰𝘳𝘥𝘦𝘳': 2377, '𝘰𝘵𝘩𝘦𝘳𝘴': 2378, '𝘯𝘦𝘦𝘥': 2379, '𝘵𝘢𝘬𝘦': 2380, 'regularli': 2381, 'pm': 2382, '𝘺𝘰𝘶𝘳𝘴𝘦𝘭𝘧': 2383, '00': 2384, '𝘩𝘦𝘭𝘱𝘴': 2385, '𝘱𝘦𝘰𝘱𝘭𝘦': 2386, '𝘶𝘯𝘥𝘦𝘳𝘴𝘵𝘰𝘰𝘥': 2387, 'remind': 2388, 'chat': 2389, 'later': 2390, '16': 2391, '00h': 2392, 'remov': 2393, 'mean': 2394, 'leav': 2395, 'alischafer4': 2396, 'debramachando': 2397, 'octob': 2398, '12': 2399, '𝘤𝘢𝘳𝘦': 2400, '𝘵𝘰𝘰': 2401, 'train': 2402, 'burden': 2403, 'happen': 2404, 'anyon': 2405, 'symptom': 2406, 'loss': 2407, 'appetit': 2408, 'less': 2409, 'concentr': 2410, 'persist': 2411, 'interest': 2412, 'usual': 2413, 'carri': 2414, 'exist': 2415, 'particularli': 2416, 'hospic': 2417, 'palli': 2418, 'diseas': 2419, 'overal': 2420, 'regular': 2421, 'enjoy': 2422, 'eat': 2423, 'sleep': 2424, 'exercis': 2425, 'posit': 2426, 'rather': 2427, 'offer': 2428, 'everyday': 2429, 'activ': 2430, 'thread': 2431, 'tip': 2432, 'connect': 2433, 'stick': 2434, 'habit': 2435, 'keep': 2436, 'normal': 2437, 'lesson': 2438, 'produ': 2439, 'coun': 2440, 'diversifi': 2441, 'springboard': 2442, 'enemi': 2443, 'magic': 2444, 'coalit': 2445, 'medspatentpool': 2446, 'mrcza': 2447, 'consortium': 2448, 'afrigen': 2449, 'wriggl': 2450, 'biovac': 2451, 'tini': 2452, 'portion': 2453, 'radar': 2454, 'weekli': 2455, 'verg': 2456, 'trampl': 2457, 'asap': 2458, 'noiweala': 2459, 'davidmalpasswbg': 2460, 'kgeorgieva': 2461, 'solomonisland': 2462, 'inappropri': 2463, 'substitut': 2464, '40th': 2465, 'swissnationalday': 2466, 'switzerland': 2467, 'buzzer': 2468, 'beater': 2469, 'dribbl': 2470, 'crossov': 2471, 'driven': 2472, 'stron': 2473, 'old': 2474, 'hurdl': 2475, 'redoubl': 2476, 'stamped': 2477, 'intent': 2478, 'blind': 2479, 'washyourhan': 2480, 'oecd': 2481, 'lone': 2482, 'hazard': 2483, 'frederikcopp': 2484, 'drbaselalsabah': 2485, 'pictogram': 2486, 'zimbabw': 2487, 'shore': 2488, 'label': 2489, 'reformul': 2490, 'secblinken': 2491, 'str': 2492, 'theindpanel': 2493, 'mistak': 2494, 'perpetu': 2495, 'mathiascormann': 2496, 'tactic': 2497, 'twenti': 2498, 'oppon': 2499, 'jeopardi': 2500, '132': 2501, 'averag': 2502, 'climb': 2503, '4m': 2504, '200m': 2505, 'underestim': 2506, 'invit': 2507, 'tokyo': 2508, 'went': 2509, '152': 2510, 'bahrain': 2511, 'newest': 2512, 'internationaldayoffriendship': 2513, 'undecadeag': 2514, 'خو': 2515, 'دي': 2516, 'خواړه': 2517, 'всемирная': 2518, 'грудного': 2519, 'вскармливания': 2520, 'грудное': 2521, 'вскармливание': 2522, 'люб': 2523, 'pekan': 2524, 'menyusui': 2525, 'sedunia': 2526, 'dimulai': 2527, 'hari': 2528, 'ini': 2529, 'adalah': 2530, 'awal': 2531, 'terbaik': 2532, 'bagi': 2533, 'неделя': 2534, 'начинается': 2535, 'bayi': 2536, 'сегодня': 2537, 'fist': 2538, 'chew': 2539, 'lick': 2540, 'suckl': 2541, 'nois': 2542, 'mujer': 2543, 'deben': 2544, 'ser': 2545, 'poyada': 2546, 'dar': 2547, 'mamar': 2548, 'sujetar': 2549, 'piel': 2550, 'compartir': 2551, 'habitación': 2552, 'setiap': 2553, 'membawa': 2554, 'ښه': 2555, 'exclusif': 2556, 'د': 2557, 'مور': 2558, 'شیدو': 2559, 'سره': 2560, 'ماشوم': 2561, 'دتغذیې': 2562, 'نړیوالې': 2563, 'اونۍ': 2564, 'لومړۍ': 2565, 'ورځ': 2566, 'ده': 2567, 'شیدې': 2568, 'لپاره': 2569, 'تر': 2570, 'ټولو': 2571, 'نن': 2572, 'vou': 2573, 'сьогодні': 2574, 'saviez': 2575, 'розпочинається': 2576, 'всесвітній': 2577, 'тиждень': 2578, 'вигодовування': 2579, 'грудне': 2580, 'найкращий': 2581, 'початок': 2582, 'життя': 2583, 'немов': 2584, 'omsmadagascar': 2585, 'semain': 2586, 'mondial': 2587, 'allait': 2588, 'maternel': 2589, 'août': 2590, 'panic': 2591, 'neglect': 2592, 'crise': 2593, 'zainal': 2594, 'unregist': 2595, 'sudan': 2596, 'commemor': 2597, '14h00': 2598, 'registr': 2599, 'teambahrain': 2600, 'contagi': 2601, 'uniti': 2602, 'majesti': 2603, 'king': 2604, 'hamad': 2605, 'isa': 2606, 'khalifa': 2607, '152nd': 2608, 'hrh': 2609, 'nomad': 2610, 'abdullah': 2611, 'hea': 2612, 'bent': 2613, 'flavour': 2614, 'paulajradcliff': 2615, 'winner': 2616, 'york': 2617, 'marathon': 2618, 'fortifi': 2619, 'extra': 2620, 'vitamin': 2621, 'miner': 2622, 'behavior': 2623, 'fiscal': 2624, 'tax': 2625, 'subsidi': 2626, 'bhparliament': 2627, 'fawzia': 2628, 'sa': 2629, 'steadfast': 2630, 'toy': 2631, 'الاستراتيجي': 2632, 'fantasi': 2633, 'eib': 2634, 'excit': 2635, 'meaning': 2636, 'outsid': 2637, 'biontech': 2638, 'wider': 2639, 'gradual': 2640, 'starter': 2641, '105': 2642, '46': 2643, '1940': 2644, 'wrote': 2645, 'phd': 2646, 'thesi': 2647, 'destin': 2648, 'الدعم': 2649, 'bahrainwho': 2650, 'وسيقدم': 2651, 'manama': 2652, '20th': 2653, 'شرفت': 2654, 'بافتتاح': 2655, 'المكتب': 2656, 'القطري': 2657, 'الثاني': 2658, 'والخمسين': 2659, 'بعد': 2660, 'المائة': 2661, 'لمنظمة': 2662, 'الصحة': 2663, 'العالمية': 2664, 'مملكة': 2665, 'البحرين': 2666, 'hook': 2667, 'placement': 2668, 'distract': 2669, 'scalabl': 2670, 'secretariat': 2671, 'apolog': 2672, 'variou': 2673, 'shukran': 2674, 'jazeelan': 2675, 'sabah': 2676, 'khalid': 2677, 'discussi': 2678, 'era': 2679, 'royal': 2680, 'pandemictreati': 2681, 'resolv': 2682, 'mishal': 2683, 'ahmad': 2684, 'jaber': 2685, 'cont': 2686, 'unabl': 2687, 'prompt': 2688, 'presenc': 2689, 'convent': 2690, 'disconnect': 2691, 'own': 2692, 'size': 2693, 'outliv': 2694, 'budgetari': 2695, 'overarch': 2696, 'specimen': 2697, 'maellensirleaf': 2698, 'helenclarknz': 2699, 'composit': 2700, 'mirror': 2701, 'quantiti': 2702, 'commod': 2703, 'reli': 2704, 'crown': 2705, 'liver': 2706, 'younger': 2707, 'ingest': 2708, 'worldhepatitisday': 2709, 'hepatitiscantwait': 2710, '350': 2711, 'aerosol': 2712, 'toxic': 2713, 'dama': 2714, 'mile': 2715, 'vaccinat': 2716, 'quitlin': 2717, 'text': 2718, 'quitnow': 2719, 'quitgeniu': 2720, 'florenc': 2721, 'sale': 2722, 'partial': 2723, '3pm': 2724, 'generos': 2725, 'fecal': 2726, 'emir': 2727, 'drink': 2728, 'replic': 2729, 'super': 2730, 'hep': 2731, 'birthdos': 2732, 'needlestick': 2733, 'tattoo': 2734, 'pierc': 2735, 'fluid': 2736, 'gr': 2737, 'simone_bil': 2738, 'brave': 2739, 'mentalh': 2740, 'sheikh': 2741, 'nawaf': 2742, 'clench': 2743, 'bob': 2744, 'mine': 2745, 'sha': 2746, 'blueprint': 2747, 'element': 2748, 'man': 2749, 'mariangelasimao': 2750, 'northern': 2751, 'hemispher': 2752, 'summer': 2753, 'país': 2754, 'whojordan': 2755, 'han': 2756, 'incluido': 2757, 'lo': 2758, 'pueblo': 2759, 'lista': 2760, 'grupo': 2761, 'prioritario': 2762, 'contrast': 2763, 'six': 2764, 'millionth': 2765, 'inthistogeth': 2766, 'enter': 2767, 'hsarkkinen': 2768, 'professorsow': 2769, 'marco': 2770, 'medina': 2771, 'autonom': 2772, 'strength': 2773, 'finland': 2774, 'ipca': 2775, 'novarti': 2776, 'chosen': 2777, '13k': 2778, 'dexamethason': 2779, 'il': 2780, 'trajectori': 2781, 'continuación': 2782, 'presenta': 2783, 'batch': 2784, 'cuánto': 2785, 'lactanciamaterna': 2786, 'ht': 2787, 'staysaf': 2788, 'buy': 2789, 'whothailand': 2790, 'communiti': 2791, 'reus': 2792, 'recycl': 2793, '3r': 2794, 'cycl': 2795, 'transit': 2796, 'movement': 2797, 'includi': 2798, 'guecked': 2799, 'southern': 2800, 'tiempo': 2801, 'durant': 2802, 'womenshealth': 2803, 'bebé': 2804, 'bmj_latest': 2805, 'unu_iigh': 2806, 'hina': 2807, 'jilani': 2808, 'toolkit': 2809, 'ipcc_ch': 2810, 'fraction': 2811, 'hotter': 2812, 'endang': 2813, 'similarli': 2814, 'qué': 2815, 'momento': 2816, 'debo': 2817, 'amamantar': 2818, 'mi': 2819, 'arthriti': 2820, 'rheumatoid': 2821, 'crohn': 2822, 'гв': 2823, 'начало': 2824, 'жизни': 2825, 'для': 2826, 'любого': 2827, 'младенца': 2828, 'wildfir': 2829, 'thro': 2830, 'stjuderesearch': 2831, 'protectbreastfeed': 2832, 'whosrilanka': 2833, 'impress': 2834, 'srilanka': 2835, 'moonriver365': 2836, 'insur': 2837, 'pocket': 2838, 'лучшее': 2839, 'вскармливании': 2840, 'ambul': 2841, 'грудном': 2842, 'vacunación': 2843, 'contra': 2844, 'comunidad': 2845, 'indígena': 2846, 'paraguay': 2847, 'vulnerabi': 2848, 'youthday': 2849, '𝗨𝘀𝗲': 2850, '𝘆𝗼': 2851, 'video': 2852, 'hepcantwait': 2853, 'who_europe_ru': 2854, 'интересных': 2855, 'фактов': 2856, 'о': 2857, 'daraa': 2858, 'depolitic': 2859, 'infliximab': 2860, 'experto': 2861, 'cigarett': 2862, 'committoquit': 2863, 'washyourhand': 2864, 'cough': 2865, 'sneez': 2866, 'elbow': 2867, 'forefront': 2868, 'thrive': 2869, 'harder': 2870, '𝘆𝗼𝘂𝗿': 2871, '𝘃𝗼𝗶𝗰𝗲': 2872, '52': 2873, 'indic': 2874, 'artesun': 2875, 'imatinib': 2876, 'pregunta': 2877, 'pregunt': 2878, 'asid': 2879, 'safesex': 2880, 'provi': 2881, 'imp': 2882, 'commenc': 2883, 'undertak': 2884, 'examin': 2885, 'earliest': 2886, 'sera': 2887, 'spirit': 2888, 'blame': 2889, 'finger': 2890, 'score': 2891, 'hypothes': 2892, 'importantli': 2893, 'china': 2894, 'icymi': 2895, 'prefectur': 2896, 'carbon': 2897, 'drastic': 2898, 'greatli': 2899, 'fruizgomez': 2900, 'minsaludcol': 2901, 'va': 2902, '69': 2903, 'birthday': 2904, 'lewishamilton': 2905, 'friendship': 2906, 'teamwo': 2907, 'inspir': 2908, 'btsarmi': 2909, 'came': 2910, '49': 2911, 'breastf': 2912, 'webinar': 2913, 'model': 2914, 'outweigh': 2915, 'pericard': 2916, 'subj': 2917, 'myocard': 2918, 'sprint': 2919, 'halfway': 2920, 'unprotect': 2921, 'otherwis': 2922, 'earn': 2923, 'harriet': 2924, 'email': 2925, 'got': 2926, 'tore': 2927, 'wealthiest': 2928, 'midwif': 2929, 'nayiga': 2930, 'advantag': 2931, 'foll': 2932, 'add': 2933, '4pm': 2934, '588': 2935, 'accordingli': 2936, 'rub': 2937, 'disinfect': 2938, 'whobotswana': 2939, 'mortalit': 2940, 'thebe': 2941, 'lactancia': 2942, 'materna': 2943, 'gotabayar': 2944, 'peo': 2945, 'room': 2946, 'recov': 2947, 'govtofpakistan': 2948, 'nhsrcoffici': 2949, 'introduct': 2950, 'prayer': 2951, 'addict': 2952, 'frequent': 2953, 'win': 2954, '114': 2955, 'agoal4al': 2956, '278': 2957, 'notatarget': 2958, 'militari': 2959, 'purpos': 2960, 'unemploy': 2961, 'closur': 2962, 'disturb': 2963, 'retir': 2964, 'breastmilk': 2965, 'olympicgam': 2966, 'mutazbarshim': 2967, 'gianmarco': 2968, 'tamb': 2969, 'tokyo2020': 2970, 'leap': 2971, 'late': 2972, 'understat': 2973, 'fraudul': 2974, 'feed': 2975, 'ofrec': 2976, 'quien': 2977, 'amamantando': 2978, 'estudio': 2979, 'corto': 2980, 'plazo': 2981, 'sugieren': 2982, 'qu': 2983, 'page': 2984, 'saudiarabia': 2985, 'angola': 2986, 'pfizer': 2987, 'moderna': 2988, 'conversacion': 2989, 'pueblosindígena': 2990, 'aconseja': 2991, 'formula': 2992, 'htt': 2993, 'undermin': 2994, 'compens': 2995, 'lotteri': 2996, 'prize': 2997, 'scam': 2998, 'recipi': 2999, 'correspond': 3000, 'scammer': 3001, 'caution': 3002, 'worldbreastfeedingweek': 3003, 'patern': 3004, 'germanydiplo': 3005, 'beliz': 3006, 'somalia': 3007, 'subtl': 3008, 'advertis': 3009, 'somosindígena': 3010, 'bias': 3011, 'concret': 3012, 'unimped': 3013, 'unocha': 3014, 'resuppli': 3015, 'mekel': 3016, 'martin': 3017, 'griffith': 3018, 'note': 3019, '1pm': 3020, 'error': 3021, 'surgic': 3022, 'organis': 3023, 'reachi': 3024, 'reason': 3025, 'olymp': 3026, 'athlet': 3027, 'faith': 3028, 'wherev': 3029, 'unreliefchief': 3030, 'enforc': 3031, 'hungri': 3032, 'aggress': 3033, 'market': 3034, 'vac': 3035, 'workplac': 3036, 'influenc': 3037, 'bottl': 3038, 'teat': 3039, 'pacifi': 3040, 'mum': 3041, '𝙚𝙫𝙚𝙧𝙮𝙬𝙝': 3042, 'carlosdelrio7': 3043, 'grip': 3044, '𝙚𝙫𝙚𝙧𝙮𝙬𝙝𝙚𝙧𝙚': 3045, '1st': 3046, '2nd': 3047, 'dam': 3048, 'exhibit': 3049, 'shorten': 3050, 'usd2': 3051, 'notobacco': 3052, 'beijingplatform': 3053, 'cyclon': 3054, 'harold': 3055, 'vanuatu': 3056, 'usd180': 3057, 'govtofvanuatu': 3058, 'usd43': 3059, 'sheath': 3060, 'protocol': 3061, 'quick': 3062, 'vawg': 3063, 'cfe': 3064, 'stringent': 3065, 'recognis': 3066, 'certif': 3067, 'proximidad': 3068, 'ubicación': 3069, 'frent': 3070, 'segura': 3071, 'feminist': 3072, '74': 3073, 'preciou': 3074, '𝐌𝐨𝐧𝐝𝐚𝐲𝐬': 3075, '𝟏𝟕𝐡𝟎𝟎': 3076, '𝐂𝐄𝐒𝐓': 3077, 'rohingya': 3078, 'curb': 3079, 'pcr': 3080, 'son': 3081, 'tre': 3082, 'ayudan': 3083, 'tomar': 3084, 'decision': 3085, 'má': 3086, 'up': 3087, 'diminish': 3088, 'trickl': 3089, 'handwash': 3090, 'represent': 3091, 'proport': 3092, 'harsh': 3093, 'gouvernementfr': 3094, 'womeningh': 3095, 'reliant': 3096, 'occup': 3097, 'ratio': 3098, 'starker': 3099, 'physician': 3100, 'scant': 3101, 'toilet': 3102, 'stat': 3103, 'quadrupl': 3104, 'hans_klug': 3105, 'farthest': 3106, 'madagascar': 3107, 'gear': 3108, 'camp': 3109, '98': 3110, 'overflow': 3111, 'norm': 3112, 'wood': 3113, 'island': 3114, 'revenu': 3115, 'tourism': 3116, 'lofti': 3117, 'multidimension': 3118, 'solv': 3119, 'gaston': 3120, 'brown': 3121, 'antigua': 3122, 'barbuda': 3123, 'midwiv': 3124, 'actforequ': 3125, 'marriag': 3126, 'mutil': 3127, 'drsamira_asma': 3128, 'peril': 3129, 'dea': 3130, 'statist': 3131, 'signatori': 3132, 'kagutamuseveni': 3133, 'kampala': 3134, 'unequ': 3135, 'existenti': 3136, 'queen': 3137, 'mathild': 3138, 'belgian': 3139, 'unicefchief': 3140, 'fore': 3141, 'hidden': 3142, 'uncov': 3143, 'corticosteroid': 3144, 'potent': 3145, 'unafford': 3146, 'anywh': 3147, 'soft': 3148, 'plastic': 3149, 'film': 3150, 'erect': 3151, 'peni': 3152, 'permissiontod': 3153, 'music': 3154, 'communiqu': 3155, 'actaccel': 3156, 'northwest': 3157, 'bab': 3158, 'hawa': 3159, 'count': 3160, 'kumbaya': 3161, 'assumpt': 3162, 'inaccess': 3163, 'trialist': 3164, 'genit': 3165, 'alongsid': 3166, 'cervix': 3167, 'mari_pangestu': 3168, 'respon': 3169, 'renew': 3170, 'u': 3171, 'paramount': 3172, 'stagger': 3173, 'papillomaviru': 3174, 'dna': 3175, '340': 3176, 'hager': 3177, 'selam': 3178, 'abi': 3179, 'telecommun': 3180, 'cellular': 3181, 'undergo': 3182, 'sarilumab': 3183, 'methodologist': 3184, 'interleukin': 3185, 'randomis': 3186, 'figur': 3187, 'governor': 3188, 'abhorr': 3189, 'lion': 3190, 'indefens': 3191, 'ineffect': 3192, 'sharp': 3193, '2014': 3194, 'truck': 3195, 'moe': 3196, 'gt': 3197, 'websit': 3198, 'odd': 3199, 'overreact': 3200, 'befo': 3201, 'menu': 3202, 'gram': 3203, 'dire': 3204, 'holiday': 3205, 'florencia': 3206, 'recurso': 3207, 'ayudart': 3208, 'consejo': 3209, 'útile': 3210, 'planear': 3211, 'cómo': 3212, 'dejar': 3213, 'tabaco': 3214, 'whskampala': 3215, 'hondura': 3216, 'genevadiplomaci': 3217, 'graduat': 3218, 'proudtobewho': 3219, 'warmli': 3220, 'momentum': 3221, 'medit': 3222, 'catalys': 3223, 'strikingli': 3224, 'kiribati': 3225, 'micronesia': 3226, 'encod': 3227, 'algorithm': 3228, 'unlock': 3229, 'suggest': 3230, 'galvan': 3231, 'fiji': 3232, 'tahiti': 3233, 'tuvalu': 3234, 'tonga': 3235, 'bahama': 3236, 'subsid': 3237, 'deepen': 3238, 'min': 3239, 'techniqu': 3240, 'virginia': 3241, '108': 3242, 'permiss': 3243, 'paramed': 3244, 'logistician': 3245, 'amaz': 3246, '𝗸𝗲𝗲𝗽': 3247, '𝘁𝗮𝗸𝗶𝗻𝗴': 3248, '𝗽𝗿𝗲𝗰𝗮𝘂𝘁𝗶𝗼𝗻𝘀': 3249, 'ovul': 3250, 'predictor': 3251, 'prescript': 3252, 'glucos': 3253, 'healthili': 3254, 'spoken': 3255, 'belgium': 3256, 'childr': 3257, '87': 3258, 'rica': 3259, 'horrif': 3260, 'costa': 3261, 'drchristou': 3262, 'brutal': 3263, 'murder': 3264, 'msf': 3265, 'condemn': 3266, 'sympathi': 3267, 'bomb': 3268, 'toni': 3269, 'frisch': 3270, 'emt': 3271, 'greec': 3272, 'norway': 3273, 'lesvo': 3274, 'djibouti': 3275, 'papua': 3276, 'legail': 3277, '➏': 3278, 'equival': 3279, 'excess': 3280, '1981': 3281, '1982': 3282, 'brunei': 3283, 'darussalam': 3284, '1987': 3285, '30m': 3286, 'ad': 3287, 'breakfast': 3288, 'cereal': 3289, 'sauc': 3290, 'snack': 3291, 'sweeten': 3292, 'violat': 3293, 'humanright': 3294, 'endfgm': 3295, 'australia': 3296, 'festiv': 3297, 'ukinliberia': 3298, 'disaggreg': 3299, 'teaspoon': 3300, 'unpaid': 3301, 'wage': 3302, 'massiv': 3303, 'turkish': 3304, 'markcutt': 3305, 'lifelin': 3306, 'asset': 3307, 'landscap': 3308, 'slightli': 3309, '33': 3310, '66': 3311, '58': 3312, '63': 3313, 'imped': 3314, 'liberia': 3315, 'leprosi': 3316, '➎': 3317, '26': 3318, 'veget': 3319, 'precari': 3320, 'sea': 3321, 'coastal': 3322, 'taneti': 3323, 'maamau': 3324, 'jug': 3325, 'rheumat': 3326, 'bmj': 3327, 'edt': 3328, 'surinam': 3329, '➊': 3330, '➋': 3331, '➌': 3332, '➍': 3333, 'varieti': 3334, 'autonomi': 3335, 'sid': 3336, 'bodili': 3337, 'pool': 3338, 'scheme': 3339, 'adapt': 3340, 'samoa': 3341, 'pathway': 3342, 'undiversifi': 3343, 'arrang': 3344, 'heavili': 3345, 'burnout': 3346, 'characterist': 3347, 'typifi': 3348, 'dietari': 3349, '400g': 3350, 'ocean': 3351, 'extent': 3352, 'loos': 3353, 'uneth': 3354, 'mall': 3355, 'norihisa': 3356, 'stimul': 3357, 'mind': 3358, 'helmet': 3359, 'iron': 3360, 'southkorea': 3361, 'tec': 3362, 'tamura': 3363, 'stihiv2021': 3364, 'illeg': 3365, 'congress': 3366, 'erod': 3367, 'ias_confer': 3368, 'hcv': 3369, 'mole': 3370, 'sunburn': 3371, 'melanoma': 3372, 'everybodi': 3373, 'balanc': 3374, 'sensat': 3375, 'leg': 3376, 'worldbrainday': 3377, 'dashboard': 3378, 'undp': 3379, 'blavatnikschool': 3380, 'cure': 3381, 'epilepsi': 3382, 'quicker': 3383, '2024': 3384, 'neurologist': 3385, '38b': 3386, 'gdp': 3387, 'migrain': 3388, 'sclerosi': 3389, 'happeningnow': 3390, 'rollout': 3391, 'sun': 3392, 'notic': 3393, 'grandpar': 3394, 'intertwin': 3395, 'patent': 3396, '𝘯𝘢𝘵𝘪𝘰𝘯𝘴': 3397, '𝘮𝘰𝘣𝘪𝘭𝘪𝘻𝘦': 3398, '𝘱𝘰𝘸𝘦𝘳': 3399, '𝘪𝘯𝘥𝘶𝘴𝘵𝘳𝘺': 3400, '𝘸𝘢𝘳': 3401, '𝘸𝘩𝘺': 3402, '𝘥𝘰': 3403, '𝘴𝘢𝘮𝘦': 3404, '𝘥𝘦𝘧𝘦𝘢𝘵': 3405, '𝘵𝘩𝘪𝘴': 3406, '𝘤𝘰𝘮𝘮𝘰𝘯': 3407, '𝘦𝘯𝘦𝘮𝘺': 3408, 'incentiv': 3409, 'amc': 3410, 'allianc': 3411, 'chariti': 3412, 'populat': 3413, 'lie': 3414, 'ray': 3415, 'illumin': 3416, 'dawn': 3417, 'resound': 3418, 'torch': 3419, 'symbol': 3420, 'travers': 3421, 'ignit': 3422, 'competit': 3423, 'medal': 3424, '𝐡𝐨𝐩𝐞': 3425, 'motto': 3426, 'ioc': 3427, 'infodem': 3428, 'peddl': 3429, 're': 3430, 'が行ったcova': 3431, '日本': 3432, 'ferri': 3433, '236': 3434, 'faeqa': 3435, 'bint': 3436, 'saeed': 3437, 'alsaleh': 3438, 'undersecretari': 3439, 'wale': 3440, 'almanea': 3441, 'welco': 3442, 'ke': 3443, 'selfcar': 3444, 'birthdefect': 3445, 'folic': 3446, 'acid': 3447, 'µg': 3448, 'drown': 3449, 'boat': 3450, 'tire': 3451, 'rescu': 3452, 'congratula': 3453, 'kingdom': 3454, 'solid': 3455, 'moh_bahrain': 3456, 'wha74': 3457, 'diplomaci': 3458, 'mediterranean': 3459, 'empower': 3460, 'car': 3461, 'park': 3462, 'tour': 3463, 'academia': 3464, 'spotlight': 3465, 'drowningprevent': 3466, 'swim': 3467, 'conceiv': 3468, 'rem': 3469, 'パンデミックを乗り越えるために': 3470, '菅首相': 3471, 'と私は': 3472, 'すべての人のための健康': 3473, 'と公平性の概念が': 3474, '世界の': 3475, '新型コロナウイルス': 3476, '対応やその他の緊急対応の中心となるべきであると合意しました': 3477, 'また日本がユニバーサル': 3478, 'ヘルス': 3479, 'カバレッジの推進に': 3480, 'に直接お会いすることができ光栄です': 3481, '新型コロナウイルス感染症': 3482, 'と世界における': 3483, 'ワクチンの公平性': 3484, 'に関して': 3485, '実りある話し合いを行いました': 3486, 'sugawitt': 3487, 'のため': 3488, 'teamwork': 3489, 'より健康な地球': 3490, 'luck': 3491, 'refugeesolymp': 3492, 'peac': 3493, 'halal': 3494, 'toki': 3495, 'moteg': 3496, 'ingredi': 3497, 'yoga': 3498, 'は': 3499, '今後起こりうる危機への備えを強化し': 3500, 'データや資源の共有を促進するための': 3501, 'パンデミック条約': 3502, 'の制定を日本政府が支持され': 3503, 'また今年開催される栄養サミットに向けた協働を約束されたことに感謝いたします': 3504, '力を合わせて': 3505, 'throw': 3506, 'wind': 3507, 'blow': 3508, 'insid': 3509, 'halv': 3510, 'philippin': 3511, 'slum': 3512, '11am': 3513, 'gmt': 3514, 'covid_19': 3515, 'reconven': 3516, 'rip': 3517, 'scorch': 3518, 'pace': 3519, 'ihr': 3520, 'conveni': 3521, 'cheap': 3522, 'sewag': 3523, 'excreta': 3524, 'vagina': 3525, 'bud': 3526, 'farm': 3527, 'cotton': 3528, 'admiss': 3529, 'wor': 3530, 'espec': 3531, 'horizon': 3532, 'heartfelt': 3533, 'constrain': 3534, 'likelihood': 3535, 'mischaracter': 3536, 'didier': 3537, 'houssin': 3538, 'herzlich': 3539, 'willkommen': 3540, 'fabric': 3541, 'ts': 3542, 'thin': 3543, 'fertil': 3544, 'algal': 3545, 'hearwho': 3546, 'uneven': 3547, 'smoulder': 3548, 'eventu': 3549, 'roar': 3550, 'furnac': 3551, 'forest': 3552, '104': 3553, 'exhaust': 3554, 'ward': 3555, 'lift': 3556, 'titan': 3557, 'increasingli': 3558, 'consecut': 3559, 'edit': 3560, 'registri': 3561, 'int': 3562, 'actual': 3563, 'fighter': 3564, 'bloom': 3565, 'instead': 3566, 'faec': 3567, 'pet': 3568, 'litter': 3569, 'beach': 3570, 'antigen': 3571, 'rdt': 3572, 'recreat': 3573, 'stunt': 3574, 'layer': 3575, 'worldmaskweek': 3576, 'lull': 3577, 'eul': 3578, 'pharmaceut': 3579, 'weekend': 3580, '16b': 3581, 'antiretrovir': 3582, 'loudli': 3583, 'triumph': 3584, 'wataru': 3585, 'postpon': 3586, 'sacrific': 3587, '125': 3588, 'shadow': 3589, 'geopolit': 3590, 'turmoil': 3591, 'ration': 3592, 'compassion': 3593, 'distort': 3594, 'amplifi': 3595, 'sear': 3596, 'stain': 3597, 'aeon': 3598, 'discrep': 3599, 'drag': 3600, 'knock': 3601, 'tatait': 3602, 'lock': 3603, 'ishibashi': 3604, 'display': 3605, 'arena': 3606, 'andrew': 3607, 'parson': 3608, 'ethnic': 3609, 'knew': 3610, 'longest': 3611, 'powerhous': 3612, 'luxuri': 3613, 'reward': 3614, 'stabil': 3615, 'fortnight': 3616, 'onward': 3617, 'japanes': 3618, 'proverb': 3619, 'fuell': 3620, 'richest': 3621, 'repeat': 3622, 'mountaintop': 3623, 'initiate2': 3624, 'synergi': 3625, 'conduc': 3626, 'ioc総会に向けて': 3627, 'に来られて光栄です': 3628, 'シンプルな': 3629, 'しかし緊急のメッセージを届けるために来ました': 3630, '私たち一人一人が役割を果たして初めて打ち勝つことができます': 3631, '東京五輪': 3632, 'が希望と結束を生み': 3633, 'def': 3634, 'revolutionari': 3635, 'thanksformask': 3636, 'prick': 3637, 'worldemojiday': 3638, 'command': 3639, '𝘦𝘯𝘥': 3640, 'fool': 3641, '𝘱𝘢𝘯𝘥𝘦𝘮𝘪𝘤': 3642, 'paradis': 3643, 'inferno': 3644, 'ember': 3645, 'spark': 3646, 'feroci': 3647, 'blaze': 3648, 'meant': 3649, 'dous': 3650, 'flame': 3651, 'cast': 3652, 'extinguish': 3653, '8th': 3654, 'perish': 3655, '𝘸𝘩𝘦𝘯': 3656, '𝘸𝘪𝘭𝘭': 3657, 'centro': 3658, 'comunitaria': 3659, 'ops_paraguay': 3660, '𝐜𝐚𝐥𝐥𝐢𝐧𝐠': 3661, 'g7': 3662, 'g20org': 3663, 'empti': 3664, 'rome': 3665, 'silent': 3666, 'leftov': 3667, '𝐛𝐞𝐞𝐧': 3668, '𝐟𝐨𝐫': 3669, 'surgeri': 3670, '𝐕𝐚𝐜𝐜𝐢𝐧𝐄𝐪𝐮𝐢𝐭𝐲': 3671, '𝐟𝐫𝐨𝐦': 3672, '𝐛𝐞𝐠𝐢𝐧𝐧𝐢𝐧𝐠': 3673, '𝐧𝐨𝐭': 3674, '𝐚𝐟𝐭𝐞𝐫': 3675, '𝐫𝐢𝐜𝐡𝐞𝐬𝐭': 3676, '𝐜𝐨𝐮𝐧𝐭𝐫𝐢𝐞𝐬': 3677, 'ifpma': 3678, 'genom': 3679, 'inconsist': 3680, 'attitudin': 3681, 'opsguat': 3682, 'participa': 3683, 'seminario': 3684, 'web': 3685, 'crear': 3686, 'esperanza': 3687, 'travé': 3688, 'acción': 3689, 'actividad': 3690, 'día': 3691, 'pahocaribbean': 3692, 'religion': 3693, 'scar': 3694, 'recent': 3695, 'mu': 3696, '𝐜𝐚𝐫𝐞': 3697, 'appal': 3698, 'simultan': 3699, '𝐩𝐫𝐨𝐦𝐢𝐬𝐞𝐬': 3700, '𝐯𝐚𝐜𝐜𝐢𝐧𝐞𝐬': 3701, 'littl': 3702, 'rich': 3703, 'depriv': 3704, 'yellow': 3705, 'absorb': 3706, '𝐍𝐨𝐭': 3707, '𝐚': 3708, '𝐬𝐢𝐧𝐠𝐥𝐞': 3709, '𝐥𝐨𝐰': 3710, '𝐢𝐧𝐜𝐨𝐦𝐞': 3711, '𝐜𝐨𝐮𝐧𝐭𝐫𝐲': 3712, '𝐡𝐚𝐬': 3713, '𝐫𝐞𝐚𝐜𝐡𝐞𝐝': 3714, '𝐞𝐢𝐭𝐡𝐞𝐫': 3715, '𝐣𝐮𝐬𝐭': 3716, '𝐦𝐨𝐫𝐞': 3717, 'shift': 3718, '𝐚𝐧𝐲': 3719, '3rd': 3720, 'wane': 3721, 'immunocompromis': 3722, '𝐈': 3723, '𝐦': 3724, '𝐞𝐱𝐭𝐞𝐧𝐬𝐢𝐨𝐧': 3725, '𝐦𝐨𝐫𝐚𝐭𝐨𝐫𝐢𝐮𝐦': 3726, '𝐮𝐧𝐭𝐢𝐥': 3727, '𝐚𝐭': 3728, '𝐥𝐞𝐚𝐬𝐭': 3729, '𝐞𝐧𝐝': 3730, '𝟐𝟎𝟐𝟏': 3731, '𝐝𝐨𝐧': 3732, '𝐭': 3733, '𝐰𝐚𝐧𝐭': 3734, 'prevencióndel': 3735, 'como': 3736, 'mundial': 3737, 'shock': 3738, 'johnlennon': 3739, 'icon': 3740, 'song': 3741, 'worldsepsisday': 3742, 'tissu': 3743, 'sept11memori': 3744, 'poignant': 3745, 'charter': 3746, 'logist': 3747, 'dubai': 3748, 'addi': 3749, 'filmmak': 3750, 'tv': 3751, 'cinema': 3752, 'theatr': 3753, 'immunosuppress': 3754, 'septic': 3755, 'identif': 3756, 'sanit': 3757, '280': 3758, 'lab': 3759, 'shiver': 3760, 'fade': 3761, 'discomfort': 3762, 'clammi': 3763, 'sweati': 3764, 'skin': 3765, 'ungeneva': 3766, 'unit': 3767, 'abandon': 3768, 'precaut': 3769, 'proper': 3770, 'infectionprevent': 3771, 'handhygien': 3772, 'maxim': 3773, 'worldsuicidepreventionday': 3774, 'nivel': 3775, 'outnumb': 3776, 'deadlin': 3777, 'sago': 3778, 'gatsengel': 3779, 'mongolia': 3780, 'intens': 3781, 'motiv': 3782, 'opsoms_col': 3783, 'el': 3784, 'suicidio': 3785, 'sigu': 3786, 'siendo': 3787, 'important': 3788, 'problema': 3789, 'pública': 3790, 'tanto': 3791, 'youth': 3792, 'lot': 3793, 'rethink': 3794, 'homicid': 3795, 'worldsuicid': 3796, 'suic': 3797, 'shot': 3798, 'polic': 3799, 'firefight': 3800, 'often': 3801, 'scene': 3802, '4th': 3803, 'interperson': 3804, 'teenag': 3805, 'freedom': 3806, 'academ': 3807, 'seen': 3808, 'therefor': 3809, 'war': 3810, '𝐭𝐚𝐫𝐠𝐞𝐭': 3811, 'rigor': 3812, 'chao': 3813, 'quit': 3814, 'uk': 3815, 'sajidjavid': 3816, 'propos': 3817, 'lifespan': 3818, 'hrpresearch': 3819, 'sti': 3820, 'sampl': 3821, 'sadli': 3822, 'esteem': 3823, 'coercion': 3824, 'fun': 3825, 'supervis': 3826, 'liquid': 3827, 'oxid': 3828, 'agent': 3829, 'shape': 3830, 'hebegouda': 3831, 'rage': 3832, 'lure': 3833, 'budigsadikin': 3834, 'upcom': 3835, 'tireless': 3836, 'catch': 3837, 'carolinadaria': 3838, 'strengt': 3839, 'els': 3840, 'grazi': 3841, 'mill': 3842, 'robersperanza': 3843, 'pow': 3844, 'xavier': 3845, 'becerra': 3846, 'secbecerra': 3847, 'quittobacco': 3848, '94': 3849, 'puls': 3850, 'mqueiroga2': 3851, 'sein': 3852, 'innovationen': 3853, 'datenwissenschaft': 3854, 'übe': 3855, 'viren': 3856, 'sind': 3857, 'schnell': 3858, 'aber': 3859, 'daten': 3860, 'noch': 3861, 'schneller': 3862, 'mit': 3863, 'den': 3864, 'richtigen': 3865, 'informationen': 3866, 'können': 3867, 'um': 3868, 'schlüssel': 3869, 'oximet': 3870, 'wird': 3871, 'twice': 3872, 'symptomat': 3873, 'mild': 3874, 'paracetamol': 3875, 'attain': 3876, 'rise': 3877, 'whonep': 3878, 'feat': 3879, 'consider': 3880, 'societ': 3881, 'mor': 3882, 'der': 3883, 'für': 3884, 'pandemi': 3885, 'epidemieaufklärung': 3886, 'brazil': 3887, 'born': 3888, 'refus': 3889, 'dpm': 3890, 'tleuberdi': 3891, 'natio': 3892, 'illustr': 3893, 'unifi': 3894, 'continent': 3895, 'gross': 3896, 'afric': 3897, 'epi': 3898, 'une': 3899, 'meningit': 3900, 'été': 3901, 'dan': 3902, 'rdc': 3903, 'décè': 3904, 'sig': 3905, 'mukhtar': 3906, 'kazakhstan': 3907, 'literacyday': 3908, '129': 3909, 'citizen': 3910, 'deni': 3911, 'entri': 3912, 'regul': 3913, 'meanwhil': 3914, 'relax': 3915, 'unvaccin': 3916, 'decoupl': 3917, 'inequit': 3918, 'anoth': 3919, 'domin': 3920, 'deploy': 3921, 'eastern': 3922, 'tshopo': 3923, '261': 3924, 'repo': 3925, 'nutrient': 3926, 'vector': 3927, 'lane': 3928, 'liquefi': 3929, 'petroleum': 3930, 'solar': 3931, 'stove': 3932, 'copd': 3933, 'toll': 3934, 'bear': 3935, 'meal': 3936, 'tedro': 3937, 'rc74': 3938, 'claim': 3939, 'exclud': 3940, 'quickli': 3941, 'dispatch': 3942, 'newli': 3943, 'bioga': 3944, 'bike': 3945, 'foodborn': 3946, 'zone': 3947, 'safefood': 3948, 'temperatur': 3949, 'clot': 3950, 'astrazeneca': 3951, 'janssen': 3952, 'rare': 3953, 'afgha': 3954, 'blue': 3955, 'sky': 3956, 'pose': 3957, 'breathelif': 3958, 'worldcleanairday': 3959, 'recommit': 3960, 'combat': 3961, 'ultra': 3962, 'kit': 3963, 'sharpli': 3964, 'ti': 3965, 'omanconvent': 3966, 'map': 3967, 'habitat': 3968, 'whoomanoffic': 3969, 'peop': 3970, 'bl': 3971, 'smoot': 3972, 'glad': 3973, 'storag': 3974, 'door': 3975, 'whoukrain': 3976, 'tonight': 3977, 'moh_ukrain': 3978, 'lit': 3979, 'worldpati': 3980, 'ilo': 3981, 'studi': 3982, 'pictur': 3983, 'spot': 3984, 'spray': 3985, 'amput': 3986, 'omanimoh': 3987, 'oman': 3988, 'snake': 3989, 'antivenom': 3990, 'venom': 3991, 'snakebit': 3992, 'poison': 3993, 'immobil': 3994, 'airway': 3995, 'rural': 3996, 'asia': 3997, 'oceania': 3998, 'peri': 3999, '81': 4000, '138': 4001, 'injuri': 4002, '2016': 4003, 'worldpatientsafetyday': 4004, 'south': 4005, 'pacif': 4006, '54': 4007, 'transfus': 4008, 'gase': 4009, 'fume': 4010, 'worsen': 4011, 'traumat': 4012, '220m': 4013, 'supplement': 4014, 'nabih': 4015, 'berri': 4016, 'speaker': 4017, 'reassur': 4018, '5400': 4019, 'stillbirth': 4020, 'western': 4021, 'conferen': 4022, 'f': 4023, 'wholebanon': 4024, 'patientsafeti': 4025, 'gei': 4026, 'network': 4027, 'redcrosslebanon': 4028, 'contin': 4029, 'accumulat': 4030, 'wellnessweek': 4031, 'strive': 4032, 'firassabiad': 4033, 'rd': 4034, 'rafik': 4035, 'hariri': 4036, 'syndic': 4037, 'migrat': 4038, 'imanshank': 4039, 'saidi': 4040, 'muhammad': 4041, 'bin': 4042, 'toothbrush': 4043, 'toothpast': 4044, '59th': 4045, 'cd59': 4046, 'workershealth': 4047, 'frank_pega': 4048, 'utmost': 4049, 'pr': 4050, 'gordonbrown': 4051, 'credit': 4052, 'stewardship': 4053, 'london': 4054, 'g20': 4055, 'usd1': 4056, 'trillion': 4057, 'tirelessli': 4058, 'fluorid': 4059, 'consum': 4060, 'livelihood': 4061, 'sugar': 4062, 'foodsystems4sdg': 4063, 'countdown': 4064, 'gum': 4065, 'tooth': 4066, 'character': 4067, 'bleed': 4068, 'swollen': 4069, 'main': 4070, 'tobacco': 4071, 'untreat': 4072, 'dental': 4073, 'cari': 4074, 'milk': 4075, 'perman': 4076, 'teeth': 4077, 'wealthi': 4078, 'honor': 4079, 'mandhar': 4080, 'moham': 4081, 'mophqatar': 4082, 'kha': 4083, 'immens': 4084, 'alik': 4085, 'alarm': 4086, 'either': 4087, 'restrict': 4088, 'currenc': 4089, 'beirutblast': 4090, 'grate': 4091, 'plane': 4092, 'mt': 4093, 'land': 4094, 'efficaci': 4095, 'mix': 4096, 'kuwari': 4097, 'hanan': 4098, 'unitedkingdom': 4099, 'happi': 4100, 'evacue': 4101, 'journalist': 4102, 'artist': 4103, 'r': 4104, 'metmuseum': 4105, 'heal': 4106, 'frontier': 4107, 'wellbei': 4108, 'qatar': 4109, 'compound': 4110, 'hous': 4111, 'evacu': 4112, 'built': 4113, 'fifa': 4114, 'cu': 4115, '6700': 4116, 'najib_mikati': 4117, 'general_aoun': 4118, 'tie': 4119, '7b': 4120, 'lowest': 4121, 'rest': 4122, 'rc71cph': 4123, 'deleg': 4124, 'houseofswagho': 4125, 'talent': 4126, 'danc': 4127, 'perfor': 4128, 'ministeri': 4129, 'behalf': 4130, 'delta': 4131, 'gather': 4132, 'ventil': 4133, 'abnorm': 4134, 'render': 4135, '141': 4136, 'disorient': 4137, '260': 4138, 'benedict': 4139, 'oramah': 4140, 'chairman': 4141, 'board': 4142, 'execut': 4143, 'songw': 4144, 'mrna': 4145, 'mr': 4146, 'masiyiwa': 4147, 'envoy': 4148, 'bilater': 4149, 'solvabl': 4150, 'acknowledg': 4151, 'compliment': 4152, 'purchas': 4153, 'cold': 4154, 'urin': 4155, 'everyth': 4156, 'wfp': 4157, 'wednesday': 4158, 'mazar': 4159, 'sharif': 4160, 'airport': 4161, 'expedit': 4162, 'bridg': 4163, 'minimis': 4164, 'will': 4165, '538': 4166, '66m': 4167, 'wild': 4168, 'polioviru': 4169, 'jeopardis': 4170, 'ngo': 4171, 'shut': 4172, '140': 4173, 'caught': 4174, 'diagnos': 4175, '1000': 4176, 'promptli': 4177, 'tak': 4178, 'skal': 4179, 'du': 4180, 'flem': 4181, 'møller': 4182, 'mortensen': 4183, 'udviklingsmin': 4184, 'vielen': 4185, 'dank': 4186, 'heikomaa': 4187, 'reenat_sandhu': 4188, 'neonat': 4189, 'tube': 4190, 'worldsep': 4191, 'professor': 4192, 'sorrow': 4193, 'bonn': 4194, 'circul': 4195, 'v': 4196, 'hurt': 4197, '30pm': 4198, 'investafrica1': 4199, 'urinari': 4200, 'tract': 4201, 'uti': 4202, 'strep': 4203, 'sepsi': 4204, 'opsomsel': 4205, 'hey': 4206, 'vacúnat': 4207, 'vacuna': 4208, 'salvan': 4209, 'vida': 4210, 'chanc': 4211, 'doctorsoumya': 4212, 'tu': 4213, 'spea': 4214, 'nouvel': 4215, 'guiné': 4216, 'déclaré': 4217, 'fin': 4218, 'flambé': 4219, 'maladi': 4220, 'à': 4221, 'marburg': 4222, 'aujourd': 4223, 'hui': 4224, 'au': 4225, 'guinea': 4226, 'th': 4227, 'moeti': 4228, 'tschopo': 4229, 'haz': 4230, 'cita': 4231, 'friday': 4232, 'niño': 4233, 'worst': 4234, 'genuin': 4235, 'supplier': 4236, 'govt': 4237, 'countr': 4238, 'cepivaccin': 4239, '_africanunion': 4240, 'jnkengasong': 4241, 'songwevera': 4242, 'cyrilramaphosa': 4243, 'afreximbank': 4244, 'gaviseth': 4245, 'stillborn': 4246, '700': 4247, 'mainli': 4248, 'adolescent': 4249, 'cáncer': 4250, 'con': 4251, 'precoz': 4252, 'te': 4253, 'proteg': 4254, 'sere': 4255, 'querido': 4256, 'frontlin': 4257, 'sizakel': 4258, 'simelan': 4259, 'eswatini': 4260, 'duri': 4261, 'opsargentina': 4262, 'equipo': 4263, 'técnico': 4264, 'profesional': 4265, 'curso': 4266, 'diagnóstico': 4267, 'länder': 4268, 'neuen': 4269, 'risiken': 4270, 'weaken': 4271, 'injur': 4272, 'row': 4273, 'cote': 4274, 'ivoir': 4275, 'displac': 4276, 'syria': 4277, 'tsunami': 4278, 'cox': 4279, 'einen': 4280, 'bazar': 4281, 'yemen': 4282, 'sacrif': 4283, 'manifesto': 4284, 'resuscit': 4285, 'biodivers': 4286, 'ecosystem': 4287, 'territori': 4288, '2700': 4289, 'touré': 4290, 'ousman': 4291, 'scbriand': 4292, '750': 4293, 'insecticid': 4294, 'net': 4295, '𝐒𝐚𝐯𝐞': 4296, '𝐥𝐢𝐯𝐞𝐬': 4297, 'di': 4298, 'inter': 4299, 'thehumanrac': 4300, 'safeguard': 4301, 'worldhumanitarianday': 4302, 'unrest': 4303, 'earthquak': 4304, 'haiti': 4305, 'happ': 4306, 'degrad': 4307, 'hashtag': 4308, 'maximis': 4309, 'تلتزم': 4310, 'عملها': 4311, 'في': 4312, 'أفغانستان': 4313, 'وتقديم': 4314, 'الخدمات': 4315, 'الصحية': 4316, 'الحيوية': 4317, 'وتدعو': 4318, 'جميع': 4319, 'الأطراف': 4320, 'إلى': 4321, 'احترام': 4322, 'المدنيين': 4323, 'والعاملين': 4324, 'الص': 4325, 'بمواصلة': 4326, 'interconnect': 4327, 'outbr': 4328, 'nationalist': 4329, 'drought': 4330, 'break': 4331, 'heatwav': 4332, 'pattern': 4333, 'dispers': 4334, 'hunger': 4335, 'argument': 4336, 'unsustain': 4337, 'planet': 4338, 'intak': 4339, 'approxim': 4340, 'coronari': 4341, 'wi': 4342, 'diarrhoea': 4343, 'narrow': 4344, 'worldmosquitoday': 4345, 'advis': 4346, 'select': 4347, 'usd340': 4348, 'earmark': 4349, 'creation': 4350, 'cervic': 4351, 'multisector': 4352, 'deriv': 4353, 'certifi': 4354, 'cholera': 4355, 'niger': 4356, 'draft': 4357, 'biolog': 4358, 'rwanda': 4359, 'johnson': 4360, '475': 4361, 'decemb': 4362, 'afro': 4363, '1980': 4364, 'inflat': 4365, 'juli': 4366, 'adjust': 4367, 'africacdc': 4368, 'stone': 4369, 'unturn': 4370, 'dramat': 4371, 'seiz': 4372, 'clearli': 4373, 'spoke': 4374, 'june': 4375, 'januari': 4376, 'relianc': 4377, 'destabil': 4378, 'retain': 4379, 'imbal': 4380, 'contractor': 4381, 'program': 4382, 'pick': 4383, 'dispar': 4384, 'reservoir': 4385, 'aed': 4386, 'dengu': 4387, 'rid': 4388, 'garden': 4389, 'scrub': 4390, 'contain': 4391, 'rainfal': 4392, 'unplan': 4393, 'wreak': 4394, 'havoc': 4395, 'x': 4396, 'encompass': 4397, 'biosafeti': 4398, 'biosecur': 4399, 'spillov': 4400, 'rout': 4401, 'genu': 4402, 'primarili': 4403, '8b': 4404, 'zika': 4405, '87m': 4406, 'wait': 4407, 'guard': 4408, 'vigil': 4409, 'h': 4410, 'péter': 4411, 'szijjártó': 4412, 'airbridg': 4413, 'whoimpact': 4414, 'dispos': 4415, 'induc': 4416, 'chief': 4417, 'villag': 4418, 'somewher': 4419, 'technolo': 4420, 'homeless': 4421, 'peru': 4422, 'roch': 4423, 'wear': 4424, 'trunk': 4425, 'unfold': 4426, 'civilian': 4427, 'accra': 4428, 'korl': 4429, 'bu': 4430, 'paediatr': 4431, 'oncolog': 4432, 'prov': 4433, 'aftermath': 4434, 'eq': 4435, 'fit': 4436, 'nose': 4437, 'forget': 4438, 'répons': 4439, 'window': 4440, 'distanc': 4441, 'op': 4442, 'crowd': 4443, 'charg': 4444, 'brighter': 4445, 'interrupt': 4446, 'unfound': 4447, 'depart': 4448, 'abid': 4449, 'law': 4450, 'sincer': 4451, 'condolenc': 4452, 'sadden': 4453, 'tanker': 4454, 'côte': 4455, 'supp': 4456, 'groceri': 4457, 'shop': 4458, 'séism': 4459, 'om': 4460, 'big': 4461, 'nombr': 4462, 'et': 4463, 'dégât': 4464, 'suit': 4465, 'produit': 4466, 'ce': 4467, 'mat': 4468, 'strike': 4469, 'hotel': 4470, 'cay': 4471, 'josé': 4472, 'flecher': 4473, 'wherea': 4474, 'nowher': 4475, 'shade': 4476, 'hottest': 4477, 'touché': 4478, 'grand': 4479, 'déploie': 4480, '255': 4481, 'se': 4482, 'pour': 4483, 'soutenir': 4484, 'haïti': 4485, 'indoor': 4486, 'serious': 4487, 'confirmé': 4488, 'premièr': 4489, 'révèlent': 4490, 'pat': 4491, 'aircraft': 4492, 'dep': 4493, 'admit': 4494, 'pahoemerg': 4495, '049': 4496, 'youthlead': 4497, 'yesterd': 4498, 'channel': 4499, 'j': 4500, 'southafrica': 4501, 'europ': 4502, 'slow': 4503, 'mutat': 4504, 'divid': 4505, 'have': 4506, 'not': 4507, 'larger': 4508, 'spike': 4509, 'multiag': 4510, 'outpac': 4511, 'ring': 4512, 'along': 4513, 'monoclon': 4514, 'sort': 4515, 'stun': 4516, 'hospitalis': 4517, 'counterpart': 4518, 'amongst': 4519, 'tocilizumab': 4520, 'il6': 4521, 'inhibitor': 4522, '18': 4523, 'fairli': 4524, 'match': 4525, '5th': 4526, '6th': 4527, 'shame': 4528, 'stage': 4529, 'mutual': 4530, 'weakest': 4531, 'bond': 4532, 'furthermor': 4533, 'blocker': 4534, 'weapon': 4535, 'trace': 4536, 'swiftli': 4537, 'beauti': 4538, 'heartbreak': 4539, 'clock': 4540, 'beat': 4541, 'democrat': 4542, 'republ': 4543, 'congo': 4544, 'tribut': 4545, 'brilliant': 4546, 'epidemiologist': 4547, 'hit': 4548, 'morn': 4549, 'unconscion': 4550, 'wahidmajrooh': 4551, 'mai': 4552, 'hausa': 4553, 'daughter': 4554, 'wife': 4555, 'abidjan': 4556, '39': 4557, 'foot': 4558, 'sent': 4559, 'absolut': 4560, 'honestli': 4561, 'tempt': 4562, 'slip': 4563, 'wahid': 4564, 'majrooh': 4565, 'backslid': 4566, 'probabl': 4567, 'grace': 4568, 'heavi': 4569, 'rain': 4570, 'condol': 4571, 'imposs': 4572, 'ama': 4573, 'ratifi': 4574, 'rc71afro': 4575, 'wha68': 4576, 'emphasi': 4577, 'heiligendamm': 4578, 'sudden': 4579, 'realis': 4580, 'wake': 4581, 'profound': 4582, 'brother': 4583, 'devot': 4584, 'mayor': 4585, 'müller': 4586, 'feder': 4587, 'perfect': 4588, 'vibrant': 4589, 'dynam': 4590, 'creativ': 4591, 'hamburg': 4592, '13': 4593, 'ideal': 4594, 'german': 4595, 'humil': 4596, 'award': 4597, 'schwartlanderb': 4598, 'erna_solberg': 4599, 'nakufoaddo': 4600, 'plaqu': 4601, 'wall': 4602, 'distinct': 4603, 'dare': 4604, 'speech': 4605, 'assembl': 4606, '2015': 4607, 'appeal': 4608, 'enhanc': 4609, 'struck': 4610, 'modern': 4611, 'incub': 4612, 'obvious': 4613, 'subsequ': 4614, 'thu': 4615, 'realli': 4616, 'privileg': 4617, 'inaugur': 4618, 'avert': 4619, 'lothar': 4620, 'wieler': 4621, 'rki_d': 4622, 'resear': 4623, 'ambasador': 4624, 'isching': 4625, 'inc': 4626, 'goarn': 4627, 'viral': 4628, 'hepat': 4629, 'sooner': 4630, 'unstabl': 4631, 'fill': 4632, 'though': 4633, 'defenc': 4634, 'react': 4635, 'needless': 4636, 'leverag': 4637, 'ai': 4638, 'quantum': 4639, 'comput': 4640, 'edg': 4641, 'foster': 4642, 'predict': 4643, 'deforest': 4644, 'zoones': 4645, 'spill': 4646, 'taught': 4647, 'brought': 4648, 'pride': 4649, 'declin': 4650, 'mou': 4651, 'rede': 4652, 'da': 4653, 'vermächtni': 4654, 'prägt': 4655, 'leben': 4656, 'menschen': 4657, 'ganzen': 4658, 'arbeit': 4659, 'gesünder': 4660, 'wealth': 4661, 'chancellor': 4662, 'throughout': 4663, 'tenur': 4664, 'addr': 4665, 'etch': 4666, 'jensspahn': 4667, 'b': 4668, 'ihrer': 4669, 'fo': 4670, '2007': 4671, 'schritt': 4672, 'vora': 4673, 'gesundheit': 4674, 'während': 4675, 'gesamten': 4676, 'amtszeit': 4677, 'von': 4678, 'bundeskanzlerin': 4679, 'merkel': 4680, 'ein': 4681, 'zentral': 4682, 'thema': 4683, 'vom': 4684, 'g8': 4685, 'gipfel': 4686, 'berlin': 4687, 'ich': 4688, 'compar': 4689, 'charité': 4690, 'k': 4691, 'kroemer': 4692, 'chariteberlin': 4693, 'imfnew': 4694, 'worldbank': 4695, 'singl': 4696, 'coin': 4697, 'sum': 4698, 'export': 4699, 'input': 4700, 'bare': 4701, '900': 4702, 'volum': 4703, 'ppl': 4704, 'furthest': 4705, 'heyo': 4706, 'disciplin': 4707, 'meinem': 4708, 'analyt': 4709, 'freund': 4710, 'gute': 4711, 'gespräch': 4712, 'über': 4713, 'und': 4714, 'irrespect': 4715, 'demograph': 4716, 'exchang': 4717, 'letter': 4718, 'alex': 4719, 'radlach': 4720, 'pri': 4721, 'worldhealthsmt': 4722, 'patchi': 4723, 'incomplet': 4724, 'biologica': 4725, 'laboratori': 4726, 'underli': 4727, 'singapor': 4728, 'pharmacolog': 4729, 'strictli': 4730, 'comorbid': 4731, 'imperialcolleg': 4732, 'rightli': 4733, '194': 4734, 'spectrum': 4735, 'constitut': 4736, 'mandat': 4737, 'parallel': 4738, 'fragment': 4739, 'tharman_': 4740, 'principl': 4741, 'session': 4742, '150': 4743, 'bill': 4744, '5g': 4745, 'legitimaci': 4746, 'steadili': 4747, 'dig': 4748, 'socefallbirima': 4749, '2026': 4750, 'anytim': 4751, 'haitiearthquake2021': 4752, '88': 4753, 'pesticid': 4754, 'plant': 4755, 'anim': 4756, 'antibiot': 4757, 'antifung': 4758, 'antiparasit': 4759, 'antimicrobialresist': 4760, 'chile': 4761, 'percentag': 4762, 'uniqu': 4763, 'panel': 4764, 'surviv': 4765, 'frequenc': 4766, '62': 4767, '580': 4768, '41': 4769, '51': 4770, 'unawar': 4771, 'institutpasteur': 4772, 'côtedivoir': 4773, 'molecular': 4774, 'genet': 4775, 'paralymp': 4776, 'sport': 4777, 'residenti': 4778, 'resid': 4779, 'inquiri': 4780, 'site': 4781, '53': 4782, 'cover': 4783, 'hv': 4784, 'stabl': 4785, 'svrl': 4786, 'prep': 4787, 'cmte': 4788, 'reg': 4789, 'prog': 4790, 'wish': 4791, 'emphasis': 4792, 'sar': 4793, 'fwd': 4794, 'parti': 4795, 'pursu': 4796, 'qualifi': 4797, 'compos': 4798, 'proven': 4799, 'town': 4800, 'upon': 4801, 'diverg': 4802, 'germani': 4803, 'conting': 4804, 'bmg_bund': 4805, '64': 4806, 'staunch': 4807, 'antimicrobi': 4808, 'compendium': 4809, 'complianc': 4810, 'suitabl': 4811, 'colour': 4812, 'bleach': 4813, 'nake': 4814, 'steril': 4815, 'surfac': 4816, 'portabl': 4817, 'batteri': 4818, 'shortcut': 4819, '68': 4820, 'unconsci': 4821, 'period': 4822, 'pupil': 4823, 'angela': 4824, 'freue': 4825, 'mich': 4826, 'angekommen': 4827, 'zu': 4828, 'morgen': 4829, 'kanzlerin': 4830, 'einzu': 4831, 'undertaken': 4832, 'opioid': 4833, 'overdos': 4834, 'naloxon': 4835, 'nationwid': 4836, 'antidot': 4837, 'pinpoint': 4838, 'resumpt': 4839, 'abstin': 4840, 'thi': 4841, 'compass': 4842, 'satisfact': 4843, 'breastfe': 4844, 'laurenc': 4845, 'grummer': 4846, 'strawn': 4847, 'wise': 4848, 'officialst': 4849, 'sting': 4850, 'sang': 4851, 'easier': 4852, 'laopdr': 4853, 'teameurop': 4854, 'bed': 4855, 'norwaymfa': 4856, 'uptak': 4857, 'dimens': 4858, 'mo': 4859, 'concurr': 4860, 'monday': 4861, 'overdoseawarenessday': 4862, 'extract': 4863, 'poppi': 4864, 'seed': 4865, 'semisynthet': 4866, 'synthet': 4867, 'receptor': 4868, 'commonli': 4869, 'morphin': 4870, 'fentanyl': 4871, 'tramadol': 4872, 'prolong': 4873, 'misus': 4874, 'acquir': 4875, 'lifesav': 4876, 'intern': 4877}\n"
     ]
    }
   ],
   "source": [
    "vocabulary = word2vec.wv.key_to_index\n",
    "print(vocabulary)"
   ]
  },
  {
   "cell_type": "code",
   "execution_count": 50,
   "metadata": {},
   "outputs": [
    {
     "data": {
      "text/plain": [
       "array([ 0.00664269, -0.00617665,  0.00307138, -0.00994789, -0.00302409,\n",
       "        0.00761113,  0.00482139, -0.00738625, -0.00572602, -0.00279774,\n",
       "       -0.00639415,  0.00833591,  0.00498917, -0.00076595,  0.00495509,\n",
       "        0.00915458,  0.00643379, -0.00702033,  0.00315124,  0.0014119 ,\n",
       "       -0.00246375,  0.00544462, -0.00516951, -0.00611389,  0.00671783,\n",
       "        0.0024842 , -0.00792669,  0.00563467,  0.00616429, -0.00046072,\n",
       "       -0.00637165,  0.00424658, -0.00667426,  0.00709106,  0.00257249,\n",
       "        0.00397393, -0.00075091,  0.00791122,  0.00030424, -0.00328164,\n",
       "       -0.00258475,  0.00544039,  0.00428717,  0.00496115, -0.00917497,\n",
       "        0.00117397, -0.00567631, -0.00748867, -0.00504135,  0.00174077,\n",
       "        0.00392116, -0.00066088, -0.00257184, -0.00887981, -0.00607542,\n",
       "        0.0005268 ,  0.00829382, -0.00427763, -0.00021549,  0.00837335,\n",
       "       -0.00109032, -0.00939912,  0.00050077, -0.00450052,  0.00029168,\n",
       "        0.00578761,  0.00648819,  0.0064456 ,  0.00064394, -0.00672354,\n",
       "       -0.00387988, -0.00669327,  0.00849859,  0.00021689, -0.00300705,\n",
       "        0.00164688,  0.00729783,  0.00649424, -0.00025983,  0.00628108,\n",
       "        0.00954132,  0.00554805,  0.00258761,  0.00531168,  0.00971378,\n",
       "        0.00907685, -0.00517504,  0.00024656,  0.00097446,  0.00121995,\n",
       "       -0.00993861,  0.00010717,  0.00353816, -0.00222468,  0.00642509,\n",
       "       -0.00560598,  0.00496425, -0.00736023,  0.00209584,  0.00197142],\n",
       "      dtype=float32)"
      ]
     },
     "execution_count": 50,
     "metadata": {},
     "output_type": "execute_result"
    }
   ],
   "source": [
    "word2vec.wv['vaccin']"
   ]
  },
  {
   "cell_type": "code",
   "execution_count": 56,
   "metadata": {},
   "outputs": [],
   "source": [
    "keys = vocabulary.keys()\n",
    "embedding_clusters = []\n",
    "word_clusters = []\n",
    "\n",
    "for word in keys:\n",
    "    embeddings = []\n",
    "    words = []\n",
    "    for similar_word, _ in word2vec.wv.most_similar(word, topn=30):\n",
    "        words.append(similar_word)\n",
    "        embeddings.append(word2vec.wv[similar_word])\n",
    "    embedding_clusters.append(embeddings)\n",
    "    word_clusters.append(words)"
   ]
  },
  {
   "cell_type": "code",
   "execution_count": null,
   "metadata": {},
   "outputs": [
    {
     "name": "stdout",
     "output_type": "stream",
     "text": [
      "[t-SNE] Computing 46 nearest neighbors...\n",
      "[t-SNE] Indexed 146340 samples in 0.018s...\n"
     ]
    }
   ],
   "source": [
    "embedding_clusters = np.array(embedding_clusters)\n",
    "n, m, k = embedding_clusters.shape\n",
    "tsne_model_en_2d = TSNE(perplexity=15, n_components=2, init='pca', n_iter=250, random_state=32, verbose=1)\n",
    "embeddings_en_2d = np.array(tsne_model_en_2d.fit_transform(embedding_clusters.reshape(n * m, k))).reshape(n, m, 2)\n"
   ]
  },
  {
   "cell_type": "code",
   "execution_count": null,
   "metadata": {},
   "outputs": [],
   "source": [
    "def tsne_plot_similar_words(title, labels, embedding_clusters, word_clusters, a, filename=None):\n",
    "    plt.figure(figsize=(16, 9))\n",
    "    colors = cm.rainbow(np.linspace(0, 1, len(labels)))\n",
    "    for label, embeddings, words, color in zip(labels, embedding_clusters, word_clusters, colors):\n",
    "        x = embeddings[:, 0]\n",
    "        y = embeddings[:, 1]\n",
    "        plt.scatter(x, y, c=color, alpha=a, label=label)\n",
    "        for i, word in enumerate(words):\n",
    "            plt.annotate(word, alpha=0.5, xy=(x[i], y[i]), xytext=(5, 2),\n",
    "                         textcoords='offset points', ha='right', va='bottom', size=8)\n",
    "    plt.legend(loc=4)\n",
    "    plt.title(title)\n",
    "    plt.grid(True)\n",
    "    if filename:\n",
    "        plt.savefig(filename, format='png', dpi=150, bbox_inches='tight')\n",
    "    plt.show()\n",
    "\n",
    "\n",
    "tsne_plot_similar_words('Similar words from Google News', keys, embeddings_en_2d, word_clusters, 0.7,\n",
    "                        'similar_words.png')"
   ]
  }
 ],
 "metadata": {
  "kernelspec": {
   "display_name": "Python 3",
   "language": "python",
   "name": "python3"
  },
  "language_info": {
   "codemirror_mode": {
    "name": "ipython",
    "version": 3
   },
   "file_extension": ".py",
   "mimetype": "text/x-python",
   "name": "python",
   "nbconvert_exporter": "python",
   "pygments_lexer": "ipython3",
   "version": "3.8.8"
  }
 },
 "nbformat": 4,
 "nbformat_minor": 4
}
