{
 "cells": [
  {
   "cell_type": "code",
   "execution_count": 1,
   "metadata": {},
   "outputs": [
    {
     "name": "stderr",
     "output_type": "stream",
     "text": [
      "[nltk_data] Downloading package stopwords to /home/david/nltk_data...\n",
      "[nltk_data]   Package stopwords is already up-to-date!\n",
      "[nltk_data] Downloading package punkt to /home/david/nltk_data...\n",
      "[nltk_data]   Package punkt is already up-to-date!\n"
     ]
    },
    {
     "data": {
      "text/plain": [
       "True"
      ]
     },
     "execution_count": 1,
     "metadata": {},
     "output_type": "execute_result"
    }
   ],
   "source": [
    "import nltk\n",
    "nltk.download('stopwords')\n",
    "nltk.download('punkt')"
   ]
  },
  {
   "cell_type": "code",
   "execution_count": 2,
   "metadata": {},
   "outputs": [],
   "source": [
    "from collections import defaultdict\n",
    "from array import array\n",
    "from nltk.stem import PorterStemmer\n",
    "from nltk.corpus import stopwords\n",
    "import re\n",
    "import math\n",
    "import numpy as np\n",
    "import collections\n",
    "from numpy import linalg as la\n",
    "import time\n",
    "import json"
   ]
  },
  {
   "cell_type": "markdown",
   "metadata": {},
   "source": [
    "# Part-1) Tweets pre-processings"
   ]
  },
  {
   "cell_type": "code",
   "execution_count": 3,
   "metadata": {},
   "outputs": [],
   "source": [
    "\"\"\"\n",
    "This dataset consists only of one line where all the 2399 tweets by the WHO twitter account. \n",
    "We use the json python library to load this text as a dictionary since the dataset is stored \n",
    "in JSON format. \n",
    "\"\"\"\n",
    "docs_path = 'dataset_tweets_WHO.txt'\n",
    "with open(docs_path) as fp:\n",
    "    lines = fp.readline()\n",
    "tweets = json.loads(lines)"
   ]
  },
  {
   "cell_type": "code",
   "execution_count": 4,
   "metadata": {},
   "outputs": [
    {
     "name": "stdout",
     "output_type": "stream",
     "text": [
      "First tweet structure:\n"
     ]
    },
    {
     "data": {
      "text/plain": [
       "{'created_at': 'Wed Oct 13 09:15:58 +0000 2021',\n",
       " 'id': 1448215930178310144,\n",
       " 'id_str': '1448215930178310144',\n",
       " 'full_text': \"It's International Day for Disaster Risk Reduction\\n\\n#OpenWHO has launched a multi-tiered core curriculum to help equip you with the competencies needed to work within public health emergency response.\\n\\nStart learning today &amp; be #Ready4Response:\\n👉 https://t.co/hBFFOF0xKL https://t.co/fgZY22RWuS\",\n",
       " 'truncated': False,\n",
       " 'display_text_range': [0, 274],\n",
       " 'entities': {'hashtags': [{'text': 'OpenWHO', 'indices': [52, 60]},\n",
       "   {'text': 'Ready4Response', 'indices': [232, 247]}],\n",
       "  'symbols': [],\n",
       "  'user_mentions': [],\n",
       "  'urls': [{'url': 'https://t.co/hBFFOF0xKL',\n",
       "    'expanded_url': 'https://bit.ly/3wCa0Dr',\n",
       "    'display_url': 'bit.ly/3wCa0Dr',\n",
       "    'indices': [251, 274]}],\n",
       "  'media': [{'id': 1448215398814560259,\n",
       "    'id_str': '1448215398814560259',\n",
       "    'indices': [275, 298],\n",
       "    'media_url': 'http://pbs.twimg.com/ext_tw_video_thumb/1448215398814560259/pu/img/0COksfUiCnS3MuNy.jpg',\n",
       "    'media_url_https': 'https://pbs.twimg.com/ext_tw_video_thumb/1448215398814560259/pu/img/0COksfUiCnS3MuNy.jpg',\n",
       "    'url': 'https://t.co/fgZY22RWuS',\n",
       "    'display_url': 'pic.twitter.com/fgZY22RWuS',\n",
       "    'expanded_url': 'https://twitter.com/WHO/status/1448215930178310144/video/1',\n",
       "    'type': 'photo',\n",
       "    'sizes': {'thumb': {'w': 150, 'h': 150, 'resize': 'crop'},\n",
       "     'large': {'w': 1920, 'h': 1080, 'resize': 'fit'},\n",
       "     'medium': {'w': 1200, 'h': 675, 'resize': 'fit'},\n",
       "     'small': {'w': 680, 'h': 383, 'resize': 'fit'}}}]},\n",
       " 'extended_entities': {'media': [{'id': 1448215398814560259,\n",
       "    'id_str': '1448215398814560259',\n",
       "    'indices': [275, 298],\n",
       "    'media_url': 'http://pbs.twimg.com/ext_tw_video_thumb/1448215398814560259/pu/img/0COksfUiCnS3MuNy.jpg',\n",
       "    'media_url_https': 'https://pbs.twimg.com/ext_tw_video_thumb/1448215398814560259/pu/img/0COksfUiCnS3MuNy.jpg',\n",
       "    'url': 'https://t.co/fgZY22RWuS',\n",
       "    'display_url': 'pic.twitter.com/fgZY22RWuS',\n",
       "    'expanded_url': 'https://twitter.com/WHO/status/1448215930178310144/video/1',\n",
       "    'type': 'video',\n",
       "    'sizes': {'thumb': {'w': 150, 'h': 150, 'resize': 'crop'},\n",
       "     'large': {'w': 1920, 'h': 1080, 'resize': 'fit'},\n",
       "     'medium': {'w': 1200, 'h': 675, 'resize': 'fit'},\n",
       "     'small': {'w': 680, 'h': 383, 'resize': 'fit'}},\n",
       "    'video_info': {'aspect_ratio': [16, 9],\n",
       "     'duration_millis': 97639,\n",
       "     'variants': [{'bitrate': 256000,\n",
       "       'content_type': 'video/mp4',\n",
       "       'url': 'https://video.twimg.com/ext_tw_video/1448215398814560259/pu/vid/480x270/izK3M-OCh-xYweXi.mp4?tag=12'},\n",
       "      {'bitrate': 832000,\n",
       "       'content_type': 'video/mp4',\n",
       "       'url': 'https://video.twimg.com/ext_tw_video/1448215398814560259/pu/vid/640x360/deOwD7OuDaJ7uiHk.mp4?tag=12'},\n",
       "      {'bitrate': 2176000,\n",
       "       'content_type': 'video/mp4',\n",
       "       'url': 'https://video.twimg.com/ext_tw_video/1448215398814560259/pu/vid/1280x720/aOPOcEVxPItrZ2RR.mp4?tag=12'},\n",
       "      {'content_type': 'application/x-mpegURL',\n",
       "       'url': 'https://video.twimg.com/ext_tw_video/1448215398814560259/pu/pl/4_kPEePepwPbCe8k.m3u8?tag=12&container=fmp4'}]},\n",
       "    'additional_media_info': {'monetizable': False}}]},\n",
       " 'source': '<a href=\"https://mobile.twitter.com\" rel=\"nofollow\">Twitter Web App</a>',\n",
       " 'in_reply_to_status_id': 1448208458604584960,\n",
       " 'in_reply_to_status_id_str': '1448208458604584960',\n",
       " 'in_reply_to_user_id': 14499829,\n",
       " 'in_reply_to_user_id_str': '14499829',\n",
       " 'in_reply_to_screen_name': 'WHO',\n",
       " 'user': {'id': 14499829,\n",
       "  'id_str': '14499829',\n",
       "  'name': 'World Health Organization (WHO)',\n",
       "  'screen_name': 'WHO',\n",
       "  'location': 'Geneva, Switzerland',\n",
       "  'description': 'We are the #UnitedNations’ health agency - #HealthForAll.\\n▶️ Always check our latest tweets on #COVID19 for updated advice/information.',\n",
       "  'url': 'https://t.co/wVulKuROWG',\n",
       "  'entities': {'url': {'urls': [{'url': 'https://t.co/wVulKuROWG',\n",
       "      'expanded_url': 'http://www.who.int',\n",
       "      'display_url': 'who.int',\n",
       "      'indices': [0, 23]}]},\n",
       "   'description': {'urls': []}},\n",
       "  'protected': False,\n",
       "  'followers_count': 9963586,\n",
       "  'friends_count': 1743,\n",
       "  'listed_count': 34215,\n",
       "  'created_at': 'Wed Apr 23 19:56:27 +0000 2008',\n",
       "  'favourites_count': 11879,\n",
       "  'utc_offset': None,\n",
       "  'time_zone': None,\n",
       "  'geo_enabled': True,\n",
       "  'verified': True,\n",
       "  'statuses_count': 64983,\n",
       "  'lang': None,\n",
       "  'contributors_enabled': False,\n",
       "  'is_translator': False,\n",
       "  'is_translation_enabled': False,\n",
       "  'profile_background_color': 'D0ECF8',\n",
       "  'profile_background_image_url': 'http://abs.twimg.com/images/themes/theme1/bg.png',\n",
       "  'profile_background_image_url_https': 'https://abs.twimg.com/images/themes/theme1/bg.png',\n",
       "  'profile_background_tile': True,\n",
       "  'profile_image_url': 'http://pbs.twimg.com/profile_images/875476478988886016/_l61qZdR_normal.jpg',\n",
       "  'profile_image_url_https': 'https://pbs.twimg.com/profile_images/875476478988886016/_l61qZdR_normal.jpg',\n",
       "  'profile_banner_url': 'https://pbs.twimg.com/profile_banners/14499829/1610970935',\n",
       "  'profile_link_color': '0396DB',\n",
       "  'profile_sidebar_border_color': '8C8C8C',\n",
       "  'profile_sidebar_fill_color': 'D9D9D9',\n",
       "  'profile_text_color': '000000',\n",
       "  'profile_use_background_image': True,\n",
       "  'has_extended_profile': True,\n",
       "  'default_profile': False,\n",
       "  'default_profile_image': False,\n",
       "  'following': False,\n",
       "  'follow_request_sent': False,\n",
       "  'notifications': False,\n",
       "  'translator_type': 'regular',\n",
       "  'withheld_in_countries': []},\n",
       " 'geo': None,\n",
       " 'coordinates': None,\n",
       " 'place': None,\n",
       " 'contributors': None,\n",
       " 'is_quote_status': False,\n",
       " 'retweet_count': 16,\n",
       " 'favorite_count': 52,\n",
       " 'favorited': False,\n",
       " 'retweeted': False,\n",
       " 'possibly_sensitive': False,\n",
       " 'lang': 'en'}"
      ]
     },
     "execution_count": 4,
     "metadata": {},
     "output_type": "execute_result"
    }
   ],
   "source": [
    "print(\"First tweet structure:\")\n",
    "tweets['0']"
   ]
  },
  {
   "cell_type": "code",
   "execution_count": 5,
   "metadata": {},
   "outputs": [
    {
     "data": {
      "text/plain": [
       "dict_keys(['created_at', 'id', 'id_str', 'full_text', 'truncated', 'display_text_range', 'entities', 'extended_entities', 'source', 'in_reply_to_status_id', 'in_reply_to_status_id_str', 'in_reply_to_user_id', 'in_reply_to_user_id_str', 'in_reply_to_screen_name', 'user', 'geo', 'coordinates', 'place', 'contributors', 'is_quote_status', 'retweet_count', 'favorite_count', 'favorited', 'retweeted', 'possibly_sensitive', 'lang'])"
      ]
     },
     "execution_count": 5,
     "metadata": {},
     "output_type": "execute_result"
    }
   ],
   "source": [
    "tweets['0'].keys()"
   ]
  },
  {
   "cell_type": "code",
   "execution_count": 6,
   "metadata": {
    "scrolled": false
   },
   "outputs": [
    {
     "name": "stdout",
     "output_type": "stream",
     "text": [
      "First three full text tweets:\n",
      "\n",
      "Tweet number 1 :\n",
      "\n",
      "It's International Day for Disaster Risk Reduction\n",
      "\n",
      "#OpenWHO has launched a multi-tiered core curriculum to help equip you with the competencies needed to work within public health emergency response.\n",
      "\n",
      "Start learning today &amp; be #Ready4Response:\n",
      "👉 https://t.co/hBFFOF0xKL https://t.co/fgZY22RWuS\n",
      "\n",
      "\n",
      "Tweet number 2 :\n",
      "\n",
      "#COVID19 has shown how health emergencies and disasters affect entire communities – especially those with weak health systems, and vulnerable populations like migrants, indigenous peoples, and those living in fragile humanitarian conditions. https://t.co/jpUQpnu0V1\n",
      "\n",
      "\n",
      "Tweet number 3 :\n",
      "\n",
      "It's International Day for Disaster Risk Reduction\n",
      " \n",
      "To better respond to emergencies countries must:\n",
      "✅ invest in health care systems\n",
      "✅ achieve gender equity\n",
      "✅ protect marginalised groups\n",
      "✅ ensure ready &amp; equitable access to supplies\n",
      " \n",
      "A strong &amp; resilient health system is 🔑 https://t.co/5NALyjIymp\n",
      "\n",
      "\n"
     ]
    }
   ],
   "source": [
    "print(\"First three full text tweets:\\n\")\n",
    "for i in range(3):\n",
    "    print(\"Tweet number\",i+1,\":\\n\")\n",
    "    print(tweets[str(i)][\"full_text\"])\n",
    "    print(\"\\n\")\n",
    "    "
   ]
  },
  {
   "cell_type": "code",
   "execution_count": 7,
   "metadata": {},
   "outputs": [],
   "source": [
    "def process_tweet(line):\n",
    "    \"\"\"\n",
    "    Pre-process the tweet text removing stop words, stemming,\n",
    "    transforming in lowercase and return the tokens of the text.\n",
    "    \n",
    "    Argument:\n",
    "    line -- string (text) to be pre-processed\n",
    "    \n",
    "    Returns:\n",
    "    line - a list of tokens corresponding to the input text after the preprocessing\n",
    "    \"\"\"\n",
    "\n",
    "    stemmer = PorterStemmer()\n",
    "    stop_words = set(stopwords.words(\"english\"))\n",
    "    ## START CODE\n",
    "    line = line.lower() ## Transform in lowercase\n",
    "    tokenizer = nltk.RegexpTokenizer(r\"\\w+\")\n",
    "    line = tokenizer.tokenize(line)\n",
    "    line = [word for word in line if word not in stop_words]  ##eliminate the stopwords (HINT: use List Comprehension)\n",
    "    line = [stemmer.stem(word) for word in line] ## perform stemming (HINT: use List Comprehension)\n",
    "    i = 0\n",
    "    for word in line:\n",
    "        if word[0:4] == 'http':\n",
    "            line = line[:i]\n",
    "        i+=1\n",
    "    ## END CODE\n",
    "    return line"
   ]
  },
  {
   "cell_type": "code",
   "execution_count": 8,
   "metadata": {},
   "outputs": [],
   "source": [
    "\"\"\"\n",
    "Here for every tweet we extract the 'full_text' variable since we will only \n",
    "search inside the text of each tweet. Thus, we pre-process each tweet and \n",
    "store it in a new dictionary called proc_tweets for later use\n",
    "\"\"\"\n",
    "proc_tweets = {}\n",
    "for tweet_id, tweet in zip(tweets.keys(),tweets.values()):\n",
    "    proc_tweets[int(tweet_id)] = process_tweet(tweet['full_text'])"
   ]
  },
  {
   "cell_type": "code",
   "execution_count": 9,
   "metadata": {},
   "outputs": [
    {
     "name": "stdout",
     "output_type": "stream",
     "text": [
      "First five processed tweets\n",
      "\n",
      "['intern', 'day', 'disast', 'risk', 'reduct', 'openwho', 'launch', 'multi', 'tier', 'core', 'curriculum', 'help', 'equip', 'compet', 'need', 'work', 'within', 'public', 'health', 'emerg', 'respons', 'start', 'learn', 'today', 'amp', 'ready4respons']\n",
      "\n",
      "\n",
      "['covid19', 'shown', 'health', 'emerg', 'disast', 'affect', 'entir', 'commun', 'especi', 'weak', 'health', 'system', 'vulner', 'popul', 'like', 'migrant', 'indigen', 'peopl', 'live', 'fragil', 'humanitarian', 'condit']\n",
      "\n",
      "\n",
      "['intern', 'day', 'disast', 'risk', 'reduct', 'better', 'respond', 'emerg', 'countri', 'must', 'invest', 'health', 'care', 'system', 'achiev', 'gender', 'equiti', 'protect', 'marginalis', 'group', 'ensur', 'readi', 'amp', 'equit', 'access', 'suppli', 'strong', 'amp', 'resili', 'health', 'system']\n",
      "\n",
      "\n"
     ]
    }
   ],
   "source": [
    "print(\"First five processed tweets\\n\")\n",
    "for i in range(3):\n",
    "    print(proc_tweets[i])\n",
    "    print(\"\\n\")\n",
    "    "
   ]
  },
  {
   "cell_type": "markdown",
   "metadata": {},
   "source": [
    "Lab 2:\n",
    "\n",
    "INDEXING:\n",
    "1. Create inverted index\n",
    "2. Make a proposal of 5 queries that will be used to evaluate our search engine\n",
    "3. Apply a TF-IDF ranking to your results\n",
    "\n",
    "EVALUATION:\n",
    "1. Set the ground truth for each document and queryy (binary way)\n",
    "2. Evaluate the algorithm with:\n",
    "    2.1 Precision @K\n",
    "    2.2 Average Precision @K \n",
    "    2.3 Mean Average Precision\n",
    "    2.4 Mean Reciprocal Rank\n",
    "    2.5 Normalizewd Discounted Cummulative Gain\n",
    "3. Choose one vector rpresentation (TF-IDF or word2vec)"
   ]
  },
  {
   "cell_type": "code",
   "execution_count": 10,
   "metadata": {},
   "outputs": [],
   "source": [
    "def get_tweet_info(tweet):\n",
    "    Tweet = tweet['full_text']\n",
    "    Username = tweet['user']['name']\n",
    "    Date = tweet['created_at']\n",
    "    #Hashtags = tweet['entities']['hashtags']['text']\n",
    "\n",
    "    Hashtags = []\n",
    "    hashtags_list = tweet['entities']['hashtags']\n",
    "    for hashtag in hashtags_list:\n",
    "        Hashtags.append(hashtag['text'])\n",
    "\n",
    "    Likes = tweet['favorite_count']\n",
    "    Retweets = tweet['retweet_count']\n",
    "    Url = f\"https://twitter.com/{tweet['user']['screen_name']}/status/{tweet['id_str']}\"\n",
    "    info = [Tweet, Username, Date, Hashtags, Likes, Retweets, Url]\n",
    "    return info"
   ]
  },
  {
   "cell_type": "code",
   "execution_count": 17,
   "metadata": {},
   "outputs": [],
   "source": [
    "def create_index(tweets):\n",
    "    \"\"\"\n",
    "    Generates the index from our database to perform queries from\n",
    "    \n",
    "    Argument:\n",
    "    tweets -- collection of tweets\n",
    "    \n",
    "    Returns:\n",
    "    index - the inverted index (implemented through a Python dictionary) containing terms as keys and the corresponding\n",
    "    list of documents where these keys appears in (and the positions) as values.\n",
    "    \"\"\"\n",
    "    index = {}\n",
    "    id_index = {}\n",
    "    for i in range(len(tweets)):\n",
    "        tweet = tweets[str(i)]\n",
    "        terms = process_tweet(tweet['full_text']) #get tweet text\n",
    "        info = get_tweet_info(tweet) # get \"document\" info\n",
    "        id_tweet = tweet['id']\n",
    "        id_index[id_tweet]=info\n",
    "        for term in terms: # terms contains page_title + page_text. Loop over all terms\n",
    "            try:\n",
    "                # if the term is already in the index for the current page (current_page_index)\n",
    "                # append the position to the corresponding list\n",
    "                \n",
    "                index[term].append(id_tweet)  \n",
    "            except:\n",
    "                # Add the new term as dict key and initialize the array of positions and add the position\n",
    "                index[term]= [id_tweet]#'I' indicates unsigned int (int in Python)\n",
    "            \n",
    "        #merge the current page index with the main index                \n",
    "                    \n",
    "    return index, id_index"
   ]
  },
  {
   "cell_type": "code",
   "execution_count": 18,
   "metadata": {},
   "outputs": [
    {
     "name": "stdout",
     "output_type": "stream",
     "text": [
      "Total time to create the index: 1.07 seconds\n"
     ]
    }
   ],
   "source": [
    "start_time = time.time()\n",
    "index, id_index = create_index(tweets)\n",
    "print(\"Total time to create the index: {} seconds\".format(np.round(time.time() - start_time, 2)))"
   ]
  },
  {
   "cell_type": "code",
   "execution_count": 19,
   "metadata": {},
   "outputs": [],
   "source": [
    "def search(query, index):\n",
    "    query = process_tweet(query)\n",
    "    first = True\n",
    "    docs = {}\n",
    "    for term in query:\n",
    "        try:\n",
    "            list_docs = index[term]\n",
    "            if first:\n",
    "                docs = set(list_docs)\n",
    "                first = False\n",
    "            else:\n",
    "                docs &= set(list_docs)\n",
    "            \n",
    "        except:\n",
    "            break\n",
    "    docs=list(docs)\n",
    "    return docs           "
   ]
  },
  {
   "cell_type": "code",
   "execution_count": 20,
   "metadata": {},
   "outputs": [],
   "source": [
    "# def search(query, index):\n",
    "#     query = process_tweet(query)\n",
    "    "
   ]
  },
  {
   "cell_type": "code",
   "execution_count": 22,
   "metadata": {},
   "outputs": [
    {
     "name": "stdout",
     "output_type": "stream",
     "text": [
      "Insert your query:\n",
      "\n",
      "['@DrTedros \"Although #VaccinEquity will help to end the pandemic, its effects will continue to be felt for many years – especially for the people who have been infected and will continue to suffer from the effects of post #COVID19 condition, also known as “long COVID”\"-@DrTedros', 'World Health Organization (WHO)', 'Thu Oct 07 14:03:18 +0000 2021', ['VaccinEquity', 'COVID19'], 146, 37, 'https://twitter.com/WHO/status/1446113909480382464']\n",
      "\n",
      "['RT @opsoms: Si está completamente vacunado 💉💉, ¿aún puede contraer COVID-19? \\n\\n🚨 No importa si está vacunado o si todavía está esperando, s…', 'World Health Organization (WHO)', 'Wed Oct 13 05:47:10 +0000 2021', [], 0, 43, 'https://twitter.com/WHO/status/1448163383493136385']\n",
      "\n",
      "['RT @WHOPhilippines: Vaccines can’t stop #COVID19 alone, but by doing it all we can help protect ourselves and our loved ones against COVID-…', 'World Health Organization (WHO)', 'Mon Oct 11 04:39:10 +0000 2021', ['COVID19'], 0, 71, 'https://twitter.com/WHO/status/1447421491428143106']\n",
      "\n",
      "['People with post #COVID19 condition can experience lingering symptoms for months after recovery.\\nThe symptoms may begin right after being sick with COVID-19 or later, and may come and go https://t.co/WoiLcwsgJX https://t.co/JrABQL2EFx', 'World Health Organization (WHO)', 'Thu Oct 07 13:13:27 +0000 2021', ['COVID19'], 237, 122, 'https://twitter.com/WHO/status/1446101365558808577']\n",
      "\n",
      "[\"🆕 WHO clinical case definition for post #COVID19 condition, also called 'long COVID' https://t.co/WoiLcwsgJX https://t.co/Z0olrHlWPC\", 'World Health Organization (WHO)', 'Thu Oct 07 12:28:10 +0000 2021', ['COVID19'], 723, 373, 'https://twitter.com/WHO/status/1446089970758860801']\n",
      "\n",
      "['RT @WHOAFRO: 📺 LIVE: @WHOAFRO media briefing on the #COVID19 pandemic &amp; the global 10% COVID-19 vaccination milestones reached by countries…', 'World Health Organization (WHO)', 'Thu Sep 30 10:07:43 +0000 2021', ['COVID19'], 0, 27, 'https://twitter.com/WHO/status/1443517908072730624']\n",
      "\n",
      "['@DrTedros \"The definition says that post #COVID19 condition usually occurs 3 months from the onset of COVID-19, with symptoms that last for at least 2 months, &amp; which cannot be explained by an alternative diagnosis\"-@DrTedros https://t.co/YqU7LcXHpo', 'World Health Organization (WHO)', 'Thu Oct 07 14:04:47 +0000 2021', ['COVID19'], 146, 48, 'https://twitter.com/WHO/status/1446114284778319878']\n",
      "\n",
      "['Patients that benefit most from these therapeutics are those who are:\\n🔷non-severe and at higher risk for hospitalization \\n🔷severe or critical with seronegative status (have not developed antibodies against COVID-19)\\n\\n https://t.co/dXmYDVb7Mi https://t.co/KITwkAJXxU', 'World Health Organization (WHO)', 'Thu Sep 30 07:41:41 +0000 2021', [], 122, 22, 'https://twitter.com/WHO/status/1443481160101908485']\n",
      "\n",
      "[\"RT @WHOAFRO: Join tomorrow's media briefing on the #COVID19 pandemic &amp; the global 10% COVID-19 vaccination milestones reached by countries…\", 'World Health Organization (WHO)', 'Wed Sep 29 19:01:27 +0000 2021', ['COVID19'], 0, 21, 'https://twitter.com/WHO/status/1443289841698025473']\n",
      "\n",
      "['RT @DrTedros: I thank very much the the Government and people of #Thailand for its solidarity and continued financial support to the #COVID…', 'World Health Organization (WHO)', 'Tue Sep 28 20:21:13 +0000 2021', ['Thailand'], 0, 75, 'https://twitter.com/WHO/status/1442947527716704260']\n",
      "\n"
     ]
    }
   ],
   "source": [
    "print(\"Insert your query:\\n\")\n",
    "#query = input()\n",
    "docs = search(\"covid\",index)\n",
    "\n",
    "for d_id in docs[:10]:\n",
    "    print(f\"{id_index[d_id]}\\n\")"
   ]
  },
  {
   "cell_type": "code",
   "execution_count": null,
   "metadata": {},
   "outputs": [],
   "source": [
    "docs = search(\"covid\",index)\n",
    "\n",
    "docs"
   ]
  },
  {
   "cell_type": "code",
   "execution_count": null,
   "metadata": {},
   "outputs": [],
   "source": [
    "s1 = {'Python', 'Java','C++'}\n",
    "s2 = {'C#', 'Java'}\n",
    "\n",
    "s1 &= s2\n",
    "s1"
   ]
  }
 ],
 "metadata": {
  "kernelspec": {
   "display_name": "Python 3",
   "language": "python",
   "name": "python3"
  },
  "language_info": {
   "codemirror_mode": {
    "name": "ipython",
    "version": 3
   },
   "file_extension": ".py",
   "mimetype": "text/x-python",
   "name": "python",
   "nbconvert_exporter": "python",
   "pygments_lexer": "ipython3",
   "version": "3.8.8"
  }
 },
 "nbformat": 4,
 "nbformat_minor": 4
}
